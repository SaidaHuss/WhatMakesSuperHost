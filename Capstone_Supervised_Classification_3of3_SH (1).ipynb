{
 "cells": [
  {
   "cell_type": "markdown",
   "id": "49edffe5",
   "metadata": {},
   "source": [
    "**Saida Huseyn**                                                                                              \n",
    "**July, 2022**"
   ]
  },
  {
   "cell_type": "markdown",
   "id": "0c5600f1",
   "metadata": {},
   "source": [
    "**Capstone Project** Short term rental analysis: **What makes a super host?** Example of New York City Airbnb rentals.\n",
    "\n",
    "- **Current Notebook**: Part 3 of 6 \"Capstone_Supervised_Classification\"\n",
    "- **Next Notebook**: Part 4 of 6 \"Capstone_Random_Forest\""
   ]
  },
  {
   "cell_type": "markdown",
   "id": "e52661e9",
   "metadata": {},
   "source": [
    "The purpose of this notebook is to try to predict super hosts and interpret the features that contribute to becoming a super host.\n",
    "The steps to take are: \n",
    "- Run basic logistic regression, optimize regularization by choosing best C\n",
    "- Run basic KNN, optimize neighbours\n",
    "- Run basic Decision Tree, optimize depth\n",
    "\n",
    "- Create pipeline for Logistic regression and decision tree"
   ]
  },
  {
   "cell_type": "code",
   "execution_count": 1,
   "id": "d3b2d7c7",
   "metadata": {},
   "outputs": [],
   "source": [
    "import numpy as np\n",
    "import pandas as pd\n",
    "import matplotlib.pyplot as plt\n",
    "import seaborn as sns\n",
    "import matplotlib.gridspec as gridspec\n",
    "from scipy import stats\n",
    "import statsmodels.api as sm\n",
    "from scipy.stats import norm\n",
    "\n",
    "%matplotlib inline\n",
    "\n",
    "from sklearn.model_selection import train_test_split\n",
    "from sklearn.linear_model import LogisticRegression\n",
    "from sklearn.linear_model import LinearRegression\n",
    "from sklearn.metrics import accuracy_score\n",
    "from sklearn.preprocessing import StandardScaler\n",
    "from sklearn.neighbors import KNeighborsClassifier\n",
    "from sklearn.tree import DecisionTreeClassifier\n",
    "\n",
    "from sklearn.pipeline import Pipeline\n",
    "\n",
    "np.random.seed(12345)"
   ]
  },
  {
   "cell_type": "code",
   "execution_count": 2,
   "id": "09db8f3b",
   "metadata": {},
   "outputs": [],
   "source": [
    "from sklearn.model_selection import cross_val_score"
   ]
  },
  {
   "cell_type": "code",
   "execution_count": 3,
   "id": "f0c210d7",
   "metadata": {},
   "outputs": [],
   "source": [
    "from tempfile import mkdtemp\n",
    "from sklearn.pipeline import Pipeline\n",
    "from sklearn.preprocessing import MinMaxScaler"
   ]
  },
  {
   "cell_type": "code",
   "execution_count": 4,
   "id": "fc1184de",
   "metadata": {},
   "outputs": [],
   "source": [
    "%store -r data"
   ]
  },
  {
   "cell_type": "code",
   "execution_count": 5,
   "id": "2b3c381a",
   "metadata": {},
   "outputs": [
    {
     "data": {
      "text/plain": [
       "(37460, 50)"
      ]
     },
     "execution_count": 5,
     "metadata": {},
     "output_type": "execute_result"
    }
   ],
   "source": [
    "data.shape"
   ]
  },
  {
   "cell_type": "code",
   "execution_count": 6,
   "id": "0ff07086",
   "metadata": {},
   "outputs": [],
   "source": [
    "pd.set_option('display.max_columns', None)"
   ]
  },
  {
   "cell_type": "code",
   "execution_count": 7,
   "id": "8c584a0a",
   "metadata": {},
   "outputs": [
    {
     "data": {
      "text/html": [
       "<div>\n",
       "<style scoped>\n",
       "    .dataframe tbody tr th:only-of-type {\n",
       "        vertical-align: middle;\n",
       "    }\n",
       "\n",
       "    .dataframe tbody tr th {\n",
       "        vertical-align: top;\n",
       "    }\n",
       "\n",
       "    .dataframe thead th {\n",
       "        text-align: right;\n",
       "    }\n",
       "</style>\n",
       "<table border=\"1\" class=\"dataframe\">\n",
       "  <thead>\n",
       "    <tr style=\"text-align: right;\">\n",
       "      <th></th>\n",
       "      <th>host_is_superhost</th>\n",
       "      <th>host_has_profile_pic</th>\n",
       "      <th>host_identity_verified</th>\n",
       "      <th>latitude</th>\n",
       "      <th>longitude</th>\n",
       "      <th>accommodates</th>\n",
       "      <th>bathrooms_text</th>\n",
       "      <th>bedrooms</th>\n",
       "      <th>beds</th>\n",
       "      <th>price</th>\n",
       "      <th>minimum_nights</th>\n",
       "      <th>maximum_nights</th>\n",
       "      <th>has_availability</th>\n",
       "      <th>availability_30</th>\n",
       "      <th>availability_60</th>\n",
       "      <th>availability_90</th>\n",
       "      <th>availability_365</th>\n",
       "      <th>number_of_reviews</th>\n",
       "      <th>number_of_reviews_ltm</th>\n",
       "      <th>number_of_reviews_l30d</th>\n",
       "      <th>review_scores_rating</th>\n",
       "      <th>review_scores_accuracy</th>\n",
       "      <th>review_scores_cleanliness</th>\n",
       "      <th>review_scores_checkin</th>\n",
       "      <th>review_scores_communication</th>\n",
       "      <th>review_scores_location</th>\n",
       "      <th>review_scores_value</th>\n",
       "      <th>instant_bookable</th>\n",
       "      <th>calculated_host_listings_count</th>\n",
       "      <th>host_months</th>\n",
       "      <th>Bronx</th>\n",
       "      <th>Brooklyn</th>\n",
       "      <th>Manhattan</th>\n",
       "      <th>Queens</th>\n",
       "      <th>Staten Island</th>\n",
       "      <th>Entire home/apt</th>\n",
       "      <th>Hotel room</th>\n",
       "      <th>Private room</th>\n",
       "      <th>Shared room</th>\n",
       "      <th>amenities_number</th>\n",
       "      <th>wifi</th>\n",
       "      <th>tv</th>\n",
       "      <th>hot water</th>\n",
       "      <th>air conditioning</th>\n",
       "      <th>bathtub</th>\n",
       "      <th>dedicated workspace</th>\n",
       "      <th>board games</th>\n",
       "      <th>sound system</th>\n",
       "      <th>bbq grill</th>\n",
       "      <th>refrigerator</th>\n",
       "    </tr>\n",
       "  </thead>\n",
       "  <tbody>\n",
       "    <tr>\n",
       "      <th>0</th>\n",
       "      <td>0</td>\n",
       "      <td>1</td>\n",
       "      <td>1</td>\n",
       "      <td>40.75356</td>\n",
       "      <td>-73.98559</td>\n",
       "      <td>1</td>\n",
       "      <td>1.0</td>\n",
       "      <td>1.0</td>\n",
       "      <td>1.0</td>\n",
       "      <td>150.0</td>\n",
       "      <td>30</td>\n",
       "      <td>1125</td>\n",
       "      <td>1</td>\n",
       "      <td>30</td>\n",
       "      <td>60</td>\n",
       "      <td>77</td>\n",
       "      <td>334</td>\n",
       "      <td>48</td>\n",
       "      <td>0</td>\n",
       "      <td>0</td>\n",
       "      <td>4.7</td>\n",
       "      <td>4.72</td>\n",
       "      <td>4.62</td>\n",
       "      <td>4.76</td>\n",
       "      <td>4.79</td>\n",
       "      <td>4.86</td>\n",
       "      <td>4.41</td>\n",
       "      <td>0</td>\n",
       "      <td>3</td>\n",
       "      <td>166.0</td>\n",
       "      <td>0</td>\n",
       "      <td>0</td>\n",
       "      <td>1</td>\n",
       "      <td>0</td>\n",
       "      <td>0</td>\n",
       "      <td>1</td>\n",
       "      <td>0</td>\n",
       "      <td>0</td>\n",
       "      <td>0</td>\n",
       "      <td>31</td>\n",
       "      <td>1</td>\n",
       "      <td>1</td>\n",
       "      <td>1</td>\n",
       "      <td>1</td>\n",
       "      <td>1</td>\n",
       "      <td>1</td>\n",
       "      <td>0</td>\n",
       "      <td>0</td>\n",
       "      <td>0</td>\n",
       "      <td>1</td>\n",
       "    </tr>\n",
       "  </tbody>\n",
       "</table>\n",
       "</div>"
      ],
      "text/plain": [
       "   host_is_superhost  host_has_profile_pic  host_identity_verified  latitude  \\\n",
       "0                  0                     1                       1  40.75356   \n",
       "\n",
       "   longitude  accommodates  bathrooms_text  bedrooms  beds  price  \\\n",
       "0  -73.98559             1             1.0       1.0   1.0  150.0   \n",
       "\n",
       "   minimum_nights  maximum_nights  has_availability  availability_30  \\\n",
       "0              30            1125                 1               30   \n",
       "\n",
       "   availability_60  availability_90  availability_365  number_of_reviews  \\\n",
       "0               60               77               334                 48   \n",
       "\n",
       "   number_of_reviews_ltm  number_of_reviews_l30d  review_scores_rating  \\\n",
       "0                      0                       0                   4.7   \n",
       "\n",
       "   review_scores_accuracy  review_scores_cleanliness  review_scores_checkin  \\\n",
       "0                    4.72                       4.62                   4.76   \n",
       "\n",
       "   review_scores_communication  review_scores_location  review_scores_value  \\\n",
       "0                         4.79                    4.86                 4.41   \n",
       "\n",
       "   instant_bookable  calculated_host_listings_count  host_months  Bronx  \\\n",
       "0                 0                               3        166.0      0   \n",
       "\n",
       "   Brooklyn  Manhattan  Queens  Staten Island  Entire home/apt  Hotel room  \\\n",
       "0         0          1       0              0                1           0   \n",
       "\n",
       "   Private room  Shared room  amenities_number  wifi  tv  hot water  \\\n",
       "0             0            0                31     1   1          1   \n",
       "\n",
       "   air conditioning  bathtub  dedicated workspace  board games  sound system  \\\n",
       "0                 1        1                    1            0             0   \n",
       "\n",
       "   bbq grill  refrigerator  \n",
       "0          0             1  "
      ]
     },
     "execution_count": 7,
     "metadata": {},
     "output_type": "execute_result"
    }
   ],
   "source": [
    "data.head(1)"
   ]
  },
  {
   "cell_type": "code",
   "execution_count": 8,
   "id": "2e87e32e",
   "metadata": {
    "scrolled": true
   },
   "outputs": [
    {
     "data": {
      "text/plain": [
       "host_is_superhost                    0\n",
       "host_has_profile_pic                 0\n",
       "host_identity_verified               0\n",
       "latitude                             0\n",
       "longitude                            0\n",
       "accommodates                         0\n",
       "bathrooms_text                       0\n",
       "bedrooms                             0\n",
       "beds                                 0\n",
       "price                                0\n",
       "minimum_nights                       0\n",
       "maximum_nights                       0\n",
       "has_availability                     0\n",
       "availability_30                      0\n",
       "availability_60                      0\n",
       "availability_90                      0\n",
       "availability_365                     0\n",
       "number_of_reviews                    0\n",
       "number_of_reviews_ltm                0\n",
       "number_of_reviews_l30d               0\n",
       "review_scores_rating              8880\n",
       "review_scores_accuracy            9389\n",
       "review_scores_cleanliness         9379\n",
       "review_scores_checkin             9394\n",
       "review_scores_communication       9385\n",
       "review_scores_location            9397\n",
       "review_scores_value               9398\n",
       "instant_bookable                     0\n",
       "calculated_host_listings_count       0\n",
       "host_months                          0\n",
       "Bronx                                0\n",
       "Brooklyn                             0\n",
       "Manhattan                            0\n",
       "Queens                               0\n",
       "Staten Island                        0\n",
       "Entire home/apt                      0\n",
       "Hotel room                           0\n",
       "Private room                         0\n",
       "Shared room                          0\n",
       "amenities_number                     0\n",
       "wifi                                 0\n",
       "tv                                   0\n",
       "hot water                            0\n",
       "air conditioning                     0\n",
       "bathtub                              0\n",
       "dedicated workspace                  0\n",
       "board games                          0\n",
       "sound system                         0\n",
       "bbq grill                            0\n",
       "refrigerator                         0\n",
       "dtype: int64"
      ]
     },
     "execution_count": 8,
     "metadata": {},
     "output_type": "execute_result"
    }
   ],
   "source": [
    "data.isna().sum()"
   ]
  },
  {
   "cell_type": "markdown",
   "id": "010aba33",
   "metadata": {},
   "source": [
    "We have missing valued for review columns. Several options to deal with it:\n",
    "- fill missing values for the training set using KNN Imputer and transform validation and test sets.\n",
    "- remove rows with missing values for those columns\n",
    "- remove columns\n",
    "\n",
    "Every model below will mention which way was used. For the basic X_train set, we will use removed rows dataset, and later we will use KNN imputed values to see if it changes the basic model."
   ]
  },
  {
   "cell_type": "markdown",
   "id": "80c5b719",
   "metadata": {},
   "source": [
    "## Train, Validation, Test Split"
   ]
  },
  {
   "cell_type": "markdown",
   "id": "e064822d",
   "metadata": {},
   "source": [
    "Before using KNN Imputer for the missing values, we need to split our data into three parts; train, validation and test. We need to keep test set totally away from our data manipulation and model fitting and preserve it for the final model fit to see the close to \"real life\" performance of our final models."
   ]
  },
  {
   "cell_type": "code",
   "execution_count": 9,
   "id": "c75ee285",
   "metadata": {},
   "outputs": [
    {
     "data": {
      "text/plain": [
       "(37460, 50)"
      ]
     },
     "execution_count": 9,
     "metadata": {},
     "output_type": "execute_result"
    }
   ],
   "source": [
    "# check data shape again\n",
    "data.shape"
   ]
  },
  {
   "cell_type": "code",
   "execution_count": 10,
   "id": "7bf2ce5f",
   "metadata": {},
   "outputs": [],
   "source": [
    "# define the features and the target "
   ]
  },
  {
   "cell_type": "code",
   "execution_count": 11,
   "id": "2b846000",
   "metadata": {},
   "outputs": [],
   "source": [
    "X=data.drop(columns='host_is_superhost')\n",
    "y=data['host_is_superhost']"
   ]
  },
  {
   "cell_type": "code",
   "execution_count": 12,
   "id": "f718f30d",
   "metadata": {},
   "outputs": [
    {
     "data": {
      "text/plain": [
       "((37460, 49), (37460,))"
      ]
     },
     "execution_count": 12,
     "metadata": {},
     "output_type": "execute_result"
    }
   ],
   "source": [
    "# check shapes for X and y\n",
    "X.shape, y.shape"
   ]
  },
  {
   "cell_type": "markdown",
   "id": "d91faa25",
   "metadata": {},
   "source": [
    "First split: split the data into the test and remainder chunks:"
   ]
  },
  {
   "cell_type": "code",
   "execution_count": 13,
   "id": "c140e840",
   "metadata": {},
   "outputs": [],
   "source": [
    "X_remainder, X_test, y_remainder, y_test = train_test_split(X, y, test_size=0.20, random_state=1, stratify=y)"
   ]
  },
  {
   "cell_type": "code",
   "execution_count": 14,
   "id": "78cbe268",
   "metadata": {},
   "outputs": [
    {
     "data": {
      "text/plain": [
       "((7492, 49), (7492,))"
      ]
     },
     "execution_count": 14,
     "metadata": {},
     "output_type": "execute_result"
    }
   ],
   "source": [
    "X_test.shape, y_test.shape"
   ]
  },
  {
   "cell_type": "code",
   "execution_count": 15,
   "id": "dad0c809",
   "metadata": {},
   "outputs": [
    {
     "data": {
      "text/plain": [
       "((29968, 49), (29968,))"
      ]
     },
     "execution_count": 15,
     "metadata": {},
     "output_type": "execute_result"
    }
   ],
   "source": [
    "X_remainder.shape, y_remainder.shape"
   ]
  },
  {
   "cell_type": "markdown",
   "id": "c29509de",
   "metadata": {},
   "source": [
    "Second split: split the remainder into the train and validation sets"
   ]
  },
  {
   "cell_type": "code",
   "execution_count": 16,
   "id": "51e8316e",
   "metadata": {},
   "outputs": [],
   "source": [
    "# split the remainder into the train and validation sets. "
   ]
  },
  {
   "cell_type": "code",
   "execution_count": 17,
   "id": "083aef78",
   "metadata": {},
   "outputs": [],
   "source": [
    "X_train, X_validation, y_train, y_validation = train_test_split(X_remainder, y_remainder, test_size=0.25, random_state=1, stratify=y_remainder) "
   ]
  },
  {
   "cell_type": "code",
   "execution_count": 18,
   "id": "6ac830d4",
   "metadata": {},
   "outputs": [
    {
     "data": {
      "text/plain": [
       "((22476, 49), (22476,), (7492, 49), (7492,))"
      ]
     },
     "execution_count": 18,
     "metadata": {},
     "output_type": "execute_result"
    }
   ],
   "source": [
    "X_train.shape, y_train.shape, X_validation.shape, y_validation.shape"
   ]
  },
  {
   "cell_type": "markdown",
   "id": "80a55764",
   "metadata": {},
   "source": [
    "Train-test split complete."
   ]
  },
  {
   "cell_type": "markdown",
   "id": "a18c96fa",
   "metadata": {},
   "source": [
    "---"
   ]
  },
  {
   "cell_type": "markdown",
   "id": "2e139637",
   "metadata": {},
   "source": [
    "## KNN Imputer\n",
    "\n",
    "Justification:\n",
    "Columns related to the review scores are important to identify superhost performance; however, there are more than 8000k misisng values. Thus, we tried to use KNN to generate values for the missing ones. A simpler way of review imputing could be even more biased.\n",
    "\n",
    "\n",
    "- for reviews; filling in missing values\n",
    "- create a copy of training, validation and test sets, impute and use the initial index and feature names to make sets comparable to y_sets (target columns)"
   ]
  },
  {
   "cell_type": "code",
   "execution_count": 19,
   "id": "3d019501",
   "metadata": {},
   "outputs": [],
   "source": [
    "# copy training set"
   ]
  },
  {
   "cell_type": "code",
   "execution_count": 21,
   "id": "5cd377da",
   "metadata": {},
   "outputs": [],
   "source": [
    "x_copy=X_train"
   ]
  },
  {
   "cell_type": "code",
   "execution_count": 22,
   "id": "9085e856",
   "metadata": {},
   "outputs": [
    {
     "data": {
      "text/html": [
       "<div>\n",
       "<style scoped>\n",
       "    .dataframe tbody tr th:only-of-type {\n",
       "        vertical-align: middle;\n",
       "    }\n",
       "\n",
       "    .dataframe tbody tr th {\n",
       "        vertical-align: top;\n",
       "    }\n",
       "\n",
       "    .dataframe thead th {\n",
       "        text-align: right;\n",
       "    }\n",
       "</style>\n",
       "<table border=\"1\" class=\"dataframe\">\n",
       "  <thead>\n",
       "    <tr style=\"text-align: right;\">\n",
       "      <th></th>\n",
       "      <th>host_has_profile_pic</th>\n",
       "      <th>host_identity_verified</th>\n",
       "      <th>latitude</th>\n",
       "      <th>longitude</th>\n",
       "      <th>accommodates</th>\n",
       "      <th>bathrooms_text</th>\n",
       "      <th>bedrooms</th>\n",
       "      <th>beds</th>\n",
       "      <th>price</th>\n",
       "      <th>minimum_nights</th>\n",
       "      <th>maximum_nights</th>\n",
       "      <th>has_availability</th>\n",
       "      <th>availability_30</th>\n",
       "      <th>availability_60</th>\n",
       "      <th>availability_90</th>\n",
       "      <th>availability_365</th>\n",
       "      <th>number_of_reviews</th>\n",
       "      <th>number_of_reviews_ltm</th>\n",
       "      <th>number_of_reviews_l30d</th>\n",
       "      <th>review_scores_rating</th>\n",
       "      <th>review_scores_accuracy</th>\n",
       "      <th>review_scores_cleanliness</th>\n",
       "      <th>review_scores_checkin</th>\n",
       "      <th>review_scores_communication</th>\n",
       "      <th>review_scores_location</th>\n",
       "      <th>review_scores_value</th>\n",
       "      <th>instant_bookable</th>\n",
       "      <th>calculated_host_listings_count</th>\n",
       "      <th>host_months</th>\n",
       "      <th>Bronx</th>\n",
       "      <th>Brooklyn</th>\n",
       "      <th>Manhattan</th>\n",
       "      <th>Queens</th>\n",
       "      <th>Staten Island</th>\n",
       "      <th>Entire home/apt</th>\n",
       "      <th>Hotel room</th>\n",
       "      <th>Private room</th>\n",
       "      <th>Shared room</th>\n",
       "      <th>amenities_number</th>\n",
       "      <th>wifi</th>\n",
       "      <th>tv</th>\n",
       "      <th>hot water</th>\n",
       "      <th>air conditioning</th>\n",
       "      <th>bathtub</th>\n",
       "      <th>dedicated workspace</th>\n",
       "      <th>board games</th>\n",
       "      <th>sound system</th>\n",
       "      <th>bbq grill</th>\n",
       "      <th>refrigerator</th>\n",
       "    </tr>\n",
       "  </thead>\n",
       "  <tbody>\n",
       "    <tr>\n",
       "      <th>24872</th>\n",
       "      <td>1</td>\n",
       "      <td>1</td>\n",
       "      <td>40.74293</td>\n",
       "      <td>-73.97318</td>\n",
       "      <td>4</td>\n",
       "      <td>1.0</td>\n",
       "      <td>1.0</td>\n",
       "      <td>1.0</td>\n",
       "      <td>196.0</td>\n",
       "      <td>30</td>\n",
       "      <td>1125</td>\n",
       "      <td>1</td>\n",
       "      <td>0</td>\n",
       "      <td>0</td>\n",
       "      <td>0</td>\n",
       "      <td>248</td>\n",
       "      <td>2</td>\n",
       "      <td>2</td>\n",
       "      <td>0</td>\n",
       "      <td>4.5</td>\n",
       "      <td>4.0</td>\n",
       "      <td>4.5</td>\n",
       "      <td>5.0</td>\n",
       "      <td>5.0</td>\n",
       "      <td>5.0</td>\n",
       "      <td>4.5</td>\n",
       "      <td>0</td>\n",
       "      <td>63</td>\n",
       "      <td>120.0</td>\n",
       "      <td>0</td>\n",
       "      <td>0</td>\n",
       "      <td>1</td>\n",
       "      <td>0</td>\n",
       "      <td>0</td>\n",
       "      <td>1</td>\n",
       "      <td>0</td>\n",
       "      <td>0</td>\n",
       "      <td>0</td>\n",
       "      <td>26</td>\n",
       "      <td>1</td>\n",
       "      <td>0</td>\n",
       "      <td>1</td>\n",
       "      <td>1</td>\n",
       "      <td>0</td>\n",
       "      <td>0</td>\n",
       "      <td>0</td>\n",
       "      <td>0</td>\n",
       "      <td>0</td>\n",
       "      <td>1</td>\n",
       "    </tr>\n",
       "  </tbody>\n",
       "</table>\n",
       "</div>"
      ],
      "text/plain": [
       "       host_has_profile_pic  host_identity_verified  latitude  longitude  \\\n",
       "24872                     1                       1  40.74293  -73.97318   \n",
       "\n",
       "       accommodates  bathrooms_text  bedrooms  beds  price  minimum_nights  \\\n",
       "24872             4             1.0       1.0   1.0  196.0              30   \n",
       "\n",
       "       maximum_nights  has_availability  availability_30  availability_60  \\\n",
       "24872            1125                 1                0                0   \n",
       "\n",
       "       availability_90  availability_365  number_of_reviews  \\\n",
       "24872                0               248                  2   \n",
       "\n",
       "       number_of_reviews_ltm  number_of_reviews_l30d  review_scores_rating  \\\n",
       "24872                      2                       0                   4.5   \n",
       "\n",
       "       review_scores_accuracy  review_scores_cleanliness  \\\n",
       "24872                     4.0                        4.5   \n",
       "\n",
       "       review_scores_checkin  review_scores_communication  \\\n",
       "24872                    5.0                          5.0   \n",
       "\n",
       "       review_scores_location  review_scores_value  instant_bookable  \\\n",
       "24872                     5.0                  4.5                 0   \n",
       "\n",
       "       calculated_host_listings_count  host_months  Bronx  Brooklyn  \\\n",
       "24872                              63        120.0      0         0   \n",
       "\n",
       "       Manhattan  Queens  Staten Island  Entire home/apt  Hotel room  \\\n",
       "24872          1       0              0                1           0   \n",
       "\n",
       "       Private room  Shared room  amenities_number  wifi  tv  hot water  \\\n",
       "24872             0            0                26     1   0          1   \n",
       "\n",
       "       air conditioning  bathtub  dedicated workspace  board games  \\\n",
       "24872                 1        0                    0            0   \n",
       "\n",
       "       sound system  bbq grill  refrigerator  \n",
       "24872             0          0             1  "
      ]
     },
     "execution_count": 22,
     "metadata": {},
     "output_type": "execute_result"
    }
   ],
   "source": [
    "x_copy.head(1)"
   ]
  },
  {
   "cell_type": "code",
   "execution_count": 23,
   "id": "a4e66971",
   "metadata": {},
   "outputs": [
    {
     "data": {
      "text/plain": [
       "(22476, 49)"
      ]
     },
     "execution_count": 23,
     "metadata": {},
     "output_type": "execute_result"
    }
   ],
   "source": [
    "x_copy.shape"
   ]
  },
  {
   "cell_type": "markdown",
   "id": "19abacab",
   "metadata": {},
   "source": [
    "Normalise before KNN imputing:\n",
    "- to avoid NAN values use StandardScaler, that will normalize the data keeping the NAN values as is."
   ]
  },
  {
   "cell_type": "code",
   "execution_count": 24,
   "id": "3bc03274",
   "metadata": {},
   "outputs": [],
   "source": [
    "#define scaler\n",
    "scaler = StandardScaler()"
   ]
  },
  {
   "cell_type": "code",
   "execution_count": 25,
   "id": "b3595dcc",
   "metadata": {},
   "outputs": [
    {
     "data": {
      "text/html": [
       "<style>#sk-container-id-1 {color: black;background-color: white;}#sk-container-id-1 pre{padding: 0;}#sk-container-id-1 div.sk-toggleable {background-color: white;}#sk-container-id-1 label.sk-toggleable__label {cursor: pointer;display: block;width: 100%;margin-bottom: 0;padding: 0.3em;box-sizing: border-box;text-align: center;}#sk-container-id-1 label.sk-toggleable__label-arrow:before {content: \"▸\";float: left;margin-right: 0.25em;color: #696969;}#sk-container-id-1 label.sk-toggleable__label-arrow:hover:before {color: black;}#sk-container-id-1 div.sk-estimator:hover label.sk-toggleable__label-arrow:before {color: black;}#sk-container-id-1 div.sk-toggleable__content {max-height: 0;max-width: 0;overflow: hidden;text-align: left;background-color: #f0f8ff;}#sk-container-id-1 div.sk-toggleable__content pre {margin: 0.2em;color: black;border-radius: 0.25em;background-color: #f0f8ff;}#sk-container-id-1 input.sk-toggleable__control:checked~div.sk-toggleable__content {max-height: 200px;max-width: 100%;overflow: auto;}#sk-container-id-1 input.sk-toggleable__control:checked~label.sk-toggleable__label-arrow:before {content: \"▾\";}#sk-container-id-1 div.sk-estimator input.sk-toggleable__control:checked~label.sk-toggleable__label {background-color: #d4ebff;}#sk-container-id-1 div.sk-label input.sk-toggleable__control:checked~label.sk-toggleable__label {background-color: #d4ebff;}#sk-container-id-1 input.sk-hidden--visually {border: 0;clip: rect(1px 1px 1px 1px);clip: rect(1px, 1px, 1px, 1px);height: 1px;margin: -1px;overflow: hidden;padding: 0;position: absolute;width: 1px;}#sk-container-id-1 div.sk-estimator {font-family: monospace;background-color: #f0f8ff;border: 1px dotted black;border-radius: 0.25em;box-sizing: border-box;margin-bottom: 0.5em;}#sk-container-id-1 div.sk-estimator:hover {background-color: #d4ebff;}#sk-container-id-1 div.sk-parallel-item::after {content: \"\";width: 100%;border-bottom: 1px solid gray;flex-grow: 1;}#sk-container-id-1 div.sk-label:hover label.sk-toggleable__label {background-color: #d4ebff;}#sk-container-id-1 div.sk-serial::before {content: \"\";position: absolute;border-left: 1px solid gray;box-sizing: border-box;top: 0;bottom: 0;left: 50%;z-index: 0;}#sk-container-id-1 div.sk-serial {display: flex;flex-direction: column;align-items: center;background-color: white;padding-right: 0.2em;padding-left: 0.2em;position: relative;}#sk-container-id-1 div.sk-item {position: relative;z-index: 1;}#sk-container-id-1 div.sk-parallel {display: flex;align-items: stretch;justify-content: center;background-color: white;position: relative;}#sk-container-id-1 div.sk-item::before, #sk-container-id-1 div.sk-parallel-item::before {content: \"\";position: absolute;border-left: 1px solid gray;box-sizing: border-box;top: 0;bottom: 0;left: 50%;z-index: -1;}#sk-container-id-1 div.sk-parallel-item {display: flex;flex-direction: column;z-index: 1;position: relative;background-color: white;}#sk-container-id-1 div.sk-parallel-item:first-child::after {align-self: flex-end;width: 50%;}#sk-container-id-1 div.sk-parallel-item:last-child::after {align-self: flex-start;width: 50%;}#sk-container-id-1 div.sk-parallel-item:only-child::after {width: 0;}#sk-container-id-1 div.sk-dashed-wrapped {border: 1px dashed gray;margin: 0 0.4em 0.5em 0.4em;box-sizing: border-box;padding-bottom: 0.4em;background-color: white;}#sk-container-id-1 div.sk-label label {font-family: monospace;font-weight: bold;display: inline-block;line-height: 1.2em;}#sk-container-id-1 div.sk-label-container {text-align: center;}#sk-container-id-1 div.sk-container {/* jupyter's `normalize.less` sets `[hidden] { display: none; }` but bootstrap.min.css set `[hidden] { display: none !important; }` so we also need the `!important` here to be able to override the default hidden behavior on the sphinx rendered scikit-learn.org. See: https://github.com/scikit-learn/scikit-learn/issues/21755 */display: inline-block !important;position: relative;}#sk-container-id-1 div.sk-text-repr-fallback {display: none;}</style><div id=\"sk-container-id-1\" class=\"sk-top-container\"><div class=\"sk-text-repr-fallback\"><pre>StandardScaler()</pre><b>In a Jupyter environment, please rerun this cell to show the HTML representation or trust the notebook. <br />On GitHub, the HTML representation is unable to render, please try loading this page with nbviewer.org.</b></div><div class=\"sk-container\" hidden><div class=\"sk-item\"><div class=\"sk-estimator sk-toggleable\"><input class=\"sk-toggleable__control sk-hidden--visually\" id=\"sk-estimator-id-1\" type=\"checkbox\" checked><label for=\"sk-estimator-id-1\" class=\"sk-toggleable__label sk-toggleable__label-arrow\">StandardScaler</label><div class=\"sk-toggleable__content\"><pre>StandardScaler()</pre></div></div></div></div></div>"
      ],
      "text/plain": [
       "StandardScaler()"
      ]
     },
     "execution_count": 25,
     "metadata": {},
     "output_type": "execute_result"
    }
   ],
   "source": [
    "#fit the train data\n",
    "scaler.fit(x_copy)"
   ]
  },
  {
   "cell_type": "code",
   "execution_count": 26,
   "id": "064c2d67",
   "metadata": {},
   "outputs": [],
   "source": [
    "x_copy_s=scaler.transform(x_copy)"
   ]
  },
  {
   "cell_type": "markdown",
   "id": "7dfbf5ab",
   "metadata": {},
   "source": [
    "Also, transform validation and test sets:"
   ]
  },
  {
   "cell_type": "code",
   "execution_count": 27,
   "id": "8f31aa53",
   "metadata": {},
   "outputs": [],
   "source": [
    "x_val_copy = X_validation\n",
    "x_test_copy = X_test"
   ]
  },
  {
   "cell_type": "code",
   "execution_count": 28,
   "id": "68015d49",
   "metadata": {},
   "outputs": [],
   "source": [
    "x_val_copy_s=scaler.transform(x_val_copy)\n",
    "x_test_copy_s=scaler.transform(x_test_copy)"
   ]
  },
  {
   "cell_type": "markdown",
   "id": "47745df3",
   "metadata": {},
   "source": [
    "Import KNN imputer, fit x_copy and transform validation and test"
   ]
  },
  {
   "cell_type": "code",
   "execution_count": 29,
   "id": "43d890cc",
   "metadata": {},
   "outputs": [],
   "source": [
    "from sklearn.impute import KNNImputer"
   ]
  },
  {
   "cell_type": "code",
   "execution_count": 30,
   "id": "c3ca22f9",
   "metadata": {},
   "outputs": [],
   "source": [
    "# define imputer\n",
    "knn = KNNImputer(n_neighbors=5, weights='uniform', metric='nan_euclidean')\n"
   ]
  },
  {
   "cell_type": "code",
   "execution_count": 31,
   "id": "23efb33f",
   "metadata": {},
   "outputs": [
    {
     "data": {
      "text/html": [
       "<style>#sk-container-id-2 {color: black;background-color: white;}#sk-container-id-2 pre{padding: 0;}#sk-container-id-2 div.sk-toggleable {background-color: white;}#sk-container-id-2 label.sk-toggleable__label {cursor: pointer;display: block;width: 100%;margin-bottom: 0;padding: 0.3em;box-sizing: border-box;text-align: center;}#sk-container-id-2 label.sk-toggleable__label-arrow:before {content: \"▸\";float: left;margin-right: 0.25em;color: #696969;}#sk-container-id-2 label.sk-toggleable__label-arrow:hover:before {color: black;}#sk-container-id-2 div.sk-estimator:hover label.sk-toggleable__label-arrow:before {color: black;}#sk-container-id-2 div.sk-toggleable__content {max-height: 0;max-width: 0;overflow: hidden;text-align: left;background-color: #f0f8ff;}#sk-container-id-2 div.sk-toggleable__content pre {margin: 0.2em;color: black;border-radius: 0.25em;background-color: #f0f8ff;}#sk-container-id-2 input.sk-toggleable__control:checked~div.sk-toggleable__content {max-height: 200px;max-width: 100%;overflow: auto;}#sk-container-id-2 input.sk-toggleable__control:checked~label.sk-toggleable__label-arrow:before {content: \"▾\";}#sk-container-id-2 div.sk-estimator input.sk-toggleable__control:checked~label.sk-toggleable__label {background-color: #d4ebff;}#sk-container-id-2 div.sk-label input.sk-toggleable__control:checked~label.sk-toggleable__label {background-color: #d4ebff;}#sk-container-id-2 input.sk-hidden--visually {border: 0;clip: rect(1px 1px 1px 1px);clip: rect(1px, 1px, 1px, 1px);height: 1px;margin: -1px;overflow: hidden;padding: 0;position: absolute;width: 1px;}#sk-container-id-2 div.sk-estimator {font-family: monospace;background-color: #f0f8ff;border: 1px dotted black;border-radius: 0.25em;box-sizing: border-box;margin-bottom: 0.5em;}#sk-container-id-2 div.sk-estimator:hover {background-color: #d4ebff;}#sk-container-id-2 div.sk-parallel-item::after {content: \"\";width: 100%;border-bottom: 1px solid gray;flex-grow: 1;}#sk-container-id-2 div.sk-label:hover label.sk-toggleable__label {background-color: #d4ebff;}#sk-container-id-2 div.sk-serial::before {content: \"\";position: absolute;border-left: 1px solid gray;box-sizing: border-box;top: 0;bottom: 0;left: 50%;z-index: 0;}#sk-container-id-2 div.sk-serial {display: flex;flex-direction: column;align-items: center;background-color: white;padding-right: 0.2em;padding-left: 0.2em;position: relative;}#sk-container-id-2 div.sk-item {position: relative;z-index: 1;}#sk-container-id-2 div.sk-parallel {display: flex;align-items: stretch;justify-content: center;background-color: white;position: relative;}#sk-container-id-2 div.sk-item::before, #sk-container-id-2 div.sk-parallel-item::before {content: \"\";position: absolute;border-left: 1px solid gray;box-sizing: border-box;top: 0;bottom: 0;left: 50%;z-index: -1;}#sk-container-id-2 div.sk-parallel-item {display: flex;flex-direction: column;z-index: 1;position: relative;background-color: white;}#sk-container-id-2 div.sk-parallel-item:first-child::after {align-self: flex-end;width: 50%;}#sk-container-id-2 div.sk-parallel-item:last-child::after {align-self: flex-start;width: 50%;}#sk-container-id-2 div.sk-parallel-item:only-child::after {width: 0;}#sk-container-id-2 div.sk-dashed-wrapped {border: 1px dashed gray;margin: 0 0.4em 0.5em 0.4em;box-sizing: border-box;padding-bottom: 0.4em;background-color: white;}#sk-container-id-2 div.sk-label label {font-family: monospace;font-weight: bold;display: inline-block;line-height: 1.2em;}#sk-container-id-2 div.sk-label-container {text-align: center;}#sk-container-id-2 div.sk-container {/* jupyter's `normalize.less` sets `[hidden] { display: none; }` but bootstrap.min.css set `[hidden] { display: none !important; }` so we also need the `!important` here to be able to override the default hidden behavior on the sphinx rendered scikit-learn.org. See: https://github.com/scikit-learn/scikit-learn/issues/21755 */display: inline-block !important;position: relative;}#sk-container-id-2 div.sk-text-repr-fallback {display: none;}</style><div id=\"sk-container-id-2\" class=\"sk-top-container\"><div class=\"sk-text-repr-fallback\"><pre>KNNImputer()</pre><b>In a Jupyter environment, please rerun this cell to show the HTML representation or trust the notebook. <br />On GitHub, the HTML representation is unable to render, please try loading this page with nbviewer.org.</b></div><div class=\"sk-container\" hidden><div class=\"sk-item\"><div class=\"sk-estimator sk-toggleable\"><input class=\"sk-toggleable__control sk-hidden--visually\" id=\"sk-estimator-id-2\" type=\"checkbox\" checked><label for=\"sk-estimator-id-2\" class=\"sk-toggleable__label sk-toggleable__label-arrow\">KNNImputer</label><div class=\"sk-toggleable__content\"><pre>KNNImputer()</pre></div></div></div></div></div>"
      ],
      "text/plain": [
       "KNNImputer()"
      ]
     },
     "execution_count": 31,
     "metadata": {},
     "output_type": "execute_result"
    }
   ],
   "source": [
    "# fit on the training copy set\n",
    "knn.fit(x_copy_s)"
   ]
  },
  {
   "cell_type": "code",
   "execution_count": 33,
   "id": "c6ccd301",
   "metadata": {},
   "outputs": [],
   "source": [
    "# transform and convert transformed data into dataframe\n",
    "x_copy_s = pd.DataFrame(knn.transform(x_copy_s))"
   ]
  },
  {
   "cell_type": "code",
   "execution_count": 34,
   "id": "356e4950",
   "metadata": {},
   "outputs": [
    {
     "data": {
      "text/plain": [
       "0"
      ]
     },
     "execution_count": 34,
     "metadata": {},
     "output_type": "execute_result"
    }
   ],
   "source": [
    "x_copy_s.head().isna().sum().sum()"
   ]
  },
  {
   "cell_type": "code",
   "execution_count": 35,
   "id": "0e0e5df5",
   "metadata": {},
   "outputs": [
    {
     "data": {
      "text/html": [
       "<div>\n",
       "<style scoped>\n",
       "    .dataframe tbody tr th:only-of-type {\n",
       "        vertical-align: middle;\n",
       "    }\n",
       "\n",
       "    .dataframe tbody tr th {\n",
       "        vertical-align: top;\n",
       "    }\n",
       "\n",
       "    .dataframe thead th {\n",
       "        text-align: right;\n",
       "    }\n",
       "</style>\n",
       "<table border=\"1\" class=\"dataframe\">\n",
       "  <thead>\n",
       "    <tr style=\"text-align: right;\">\n",
       "      <th></th>\n",
       "      <th>0</th>\n",
       "      <th>1</th>\n",
       "      <th>2</th>\n",
       "      <th>3</th>\n",
       "      <th>4</th>\n",
       "      <th>5</th>\n",
       "      <th>6</th>\n",
       "      <th>7</th>\n",
       "      <th>8</th>\n",
       "      <th>9</th>\n",
       "      <th>10</th>\n",
       "      <th>11</th>\n",
       "      <th>12</th>\n",
       "      <th>13</th>\n",
       "      <th>14</th>\n",
       "      <th>15</th>\n",
       "      <th>16</th>\n",
       "      <th>17</th>\n",
       "      <th>18</th>\n",
       "      <th>19</th>\n",
       "      <th>20</th>\n",
       "      <th>21</th>\n",
       "      <th>22</th>\n",
       "      <th>23</th>\n",
       "      <th>24</th>\n",
       "      <th>25</th>\n",
       "      <th>26</th>\n",
       "      <th>27</th>\n",
       "      <th>28</th>\n",
       "      <th>29</th>\n",
       "      <th>30</th>\n",
       "      <th>31</th>\n",
       "      <th>32</th>\n",
       "      <th>33</th>\n",
       "      <th>34</th>\n",
       "      <th>35</th>\n",
       "      <th>36</th>\n",
       "      <th>37</th>\n",
       "      <th>38</th>\n",
       "      <th>39</th>\n",
       "      <th>40</th>\n",
       "      <th>41</th>\n",
       "      <th>42</th>\n",
       "      <th>43</th>\n",
       "      <th>44</th>\n",
       "      <th>45</th>\n",
       "      <th>46</th>\n",
       "      <th>47</th>\n",
       "      <th>48</th>\n",
       "    </tr>\n",
       "  </thead>\n",
       "  <tbody>\n",
       "    <tr>\n",
       "      <th>0</th>\n",
       "      <td>0.098966</td>\n",
       "      <td>0.443555</td>\n",
       "      <td>0.252809</td>\n",
       "      <td>-0.496903</td>\n",
       "      <td>0.61666</td>\n",
       "      <td>-0.337796</td>\n",
       "      <td>-0.428536</td>\n",
       "      <td>-0.529833</td>\n",
       "      <td>0.261656</td>\n",
       "      <td>0.32144</td>\n",
       "      <td>0.946017</td>\n",
       "      <td>0.475872</td>\n",
       "      <td>-0.721066</td>\n",
       "      <td>-0.808918</td>\n",
       "      <td>-0.867613</td>\n",
       "      <td>0.849126</td>\n",
       "      <td>-0.4251</td>\n",
       "      <td>-0.233962</td>\n",
       "      <td>-0.245113</td>\n",
       "      <td>-0.124773</td>\n",
       "      <td>-1.517476</td>\n",
       "      <td>-0.208461</td>\n",
       "      <td>0.428694</td>\n",
       "      <td>0.417262</td>\n",
       "      <td>0.611996</td>\n",
       "      <td>-0.289905</td>\n",
       "      <td>-0.57002</td>\n",
       "      <td>1.039879</td>\n",
       "      <td>1.278465</td>\n",
       "      <td>-0.179951</td>\n",
       "      <td>-0.783852</td>\n",
       "      <td>1.159493</td>\n",
       "      <td>-0.423786</td>\n",
       "      <td>-0.096648</td>\n",
       "      <td>0.923623</td>\n",
       "      <td>-0.063052</td>\n",
       "      <td>-0.889575</td>\n",
       "      <td>-0.121882</td>\n",
       "      <td>0.239652</td>\n",
       "      <td>0.195694</td>\n",
       "      <td>-0.991141</td>\n",
       "      <td>0.796779</td>\n",
       "      <td>0.480227</td>\n",
       "      <td>-0.506998</td>\n",
       "      <td>-1.246748</td>\n",
       "      <td>-0.170234</td>\n",
       "      <td>-0.121317</td>\n",
       "      <td>-0.252789</td>\n",
       "      <td>1.040599</td>\n",
       "    </tr>\n",
       "  </tbody>\n",
       "</table>\n",
       "</div>"
      ],
      "text/plain": [
       "         0         1         2         3        4         5         6   \\\n",
       "0  0.098966  0.443555  0.252809 -0.496903  0.61666 -0.337796 -0.428536   \n",
       "\n",
       "         7         8        9         10        11        12        13  \\\n",
       "0 -0.529833  0.261656  0.32144  0.946017  0.475872 -0.721066 -0.808918   \n",
       "\n",
       "         14        15      16        17        18        19        20  \\\n",
       "0 -0.867613  0.849126 -0.4251 -0.233962 -0.245113 -0.124773 -1.517476   \n",
       "\n",
       "         21        22        23        24        25       26        27  \\\n",
       "0 -0.208461  0.428694  0.417262  0.611996 -0.289905 -0.57002  1.039879   \n",
       "\n",
       "         28        29        30        31        32        33        34  \\\n",
       "0  1.278465 -0.179951 -0.783852  1.159493 -0.423786 -0.096648  0.923623   \n",
       "\n",
       "         35        36        37        38        39        40        41  \\\n",
       "0 -0.063052 -0.889575 -0.121882  0.239652  0.195694 -0.991141  0.796779   \n",
       "\n",
       "         42        43        44        45        46        47        48  \n",
       "0  0.480227 -0.506998 -1.246748 -0.170234 -0.121317 -0.252789  1.040599  "
      ]
     },
     "execution_count": 35,
     "metadata": {},
     "output_type": "execute_result"
    }
   ],
   "source": [
    "x_copy_s.head(1)"
   ]
  },
  {
   "cell_type": "markdown",
   "id": "9fa4f598",
   "metadata": {},
   "source": [
    "Training set is fitted and transformed."
   ]
  },
  {
   "cell_type": "markdown",
   "id": "6659c843",
   "metadata": {},
   "source": [
    "No missing values in our training set."
   ]
  },
  {
   "cell_type": "markdown",
   "id": "31b51cc0",
   "metadata": {},
   "source": [
    "Use KNN Imputer results to transform validation set: in this case, the neighbors analyzed are the neighbors from the train set, and validation set is transfromed accordingly. We also transform test set. "
   ]
  },
  {
   "cell_type": "code",
   "execution_count": 36,
   "id": "fa4cb299",
   "metadata": {},
   "outputs": [],
   "source": [
    "x_val_copy_s = pd.DataFrame(knn.transform(x_val_copy_s))"
   ]
  },
  {
   "cell_type": "code",
   "execution_count": 37,
   "id": "cfb961b8",
   "metadata": {},
   "outputs": [],
   "source": [
    "x_test_copy_s = pd.DataFrame(knn.transform(x_test_copy_s))"
   ]
  },
  {
   "cell_type": "markdown",
   "id": "de1253da",
   "metadata": {},
   "source": [
    "Get feature names back:"
   ]
  },
  {
   "cell_type": "code",
   "execution_count": 38,
   "id": "a1473f18",
   "metadata": {},
   "outputs": [],
   "source": [
    "x_copy_imputed = pd.DataFrame(knn.transform(x_copy_s), columns = x_copy.columns)"
   ]
  },
  {
   "cell_type": "code",
   "execution_count": 39,
   "id": "c2bfbd09",
   "metadata": {},
   "outputs": [
    {
     "data": {
      "text/html": [
       "<div>\n",
       "<style scoped>\n",
       "    .dataframe tbody tr th:only-of-type {\n",
       "        vertical-align: middle;\n",
       "    }\n",
       "\n",
       "    .dataframe tbody tr th {\n",
       "        vertical-align: top;\n",
       "    }\n",
       "\n",
       "    .dataframe thead th {\n",
       "        text-align: right;\n",
       "    }\n",
       "</style>\n",
       "<table border=\"1\" class=\"dataframe\">\n",
       "  <thead>\n",
       "    <tr style=\"text-align: right;\">\n",
       "      <th></th>\n",
       "      <th>host_has_profile_pic</th>\n",
       "      <th>host_identity_verified</th>\n",
       "      <th>latitude</th>\n",
       "      <th>longitude</th>\n",
       "      <th>accommodates</th>\n",
       "      <th>bathrooms_text</th>\n",
       "      <th>bedrooms</th>\n",
       "      <th>beds</th>\n",
       "      <th>price</th>\n",
       "      <th>minimum_nights</th>\n",
       "      <th>maximum_nights</th>\n",
       "      <th>has_availability</th>\n",
       "      <th>availability_30</th>\n",
       "      <th>availability_60</th>\n",
       "      <th>availability_90</th>\n",
       "      <th>availability_365</th>\n",
       "      <th>number_of_reviews</th>\n",
       "      <th>number_of_reviews_ltm</th>\n",
       "      <th>number_of_reviews_l30d</th>\n",
       "      <th>review_scores_rating</th>\n",
       "      <th>review_scores_accuracy</th>\n",
       "      <th>review_scores_cleanliness</th>\n",
       "      <th>review_scores_checkin</th>\n",
       "      <th>review_scores_communication</th>\n",
       "      <th>review_scores_location</th>\n",
       "      <th>review_scores_value</th>\n",
       "      <th>instant_bookable</th>\n",
       "      <th>calculated_host_listings_count</th>\n",
       "      <th>host_months</th>\n",
       "      <th>Bronx</th>\n",
       "      <th>Brooklyn</th>\n",
       "      <th>Manhattan</th>\n",
       "      <th>Queens</th>\n",
       "      <th>Staten Island</th>\n",
       "      <th>Entire home/apt</th>\n",
       "      <th>Hotel room</th>\n",
       "      <th>Private room</th>\n",
       "      <th>Shared room</th>\n",
       "      <th>amenities_number</th>\n",
       "      <th>wifi</th>\n",
       "      <th>tv</th>\n",
       "      <th>hot water</th>\n",
       "      <th>air conditioning</th>\n",
       "      <th>bathtub</th>\n",
       "      <th>dedicated workspace</th>\n",
       "      <th>board games</th>\n",
       "      <th>sound system</th>\n",
       "      <th>bbq grill</th>\n",
       "      <th>refrigerator</th>\n",
       "    </tr>\n",
       "  </thead>\n",
       "  <tbody>\n",
       "    <tr>\n",
       "      <th>0</th>\n",
       "      <td>0.098966</td>\n",
       "      <td>0.443555</td>\n",
       "      <td>0.252809</td>\n",
       "      <td>-0.496903</td>\n",
       "      <td>0.616660</td>\n",
       "      <td>-0.337796</td>\n",
       "      <td>-0.428536</td>\n",
       "      <td>-0.529833</td>\n",
       "      <td>0.261656</td>\n",
       "      <td>0.321440</td>\n",
       "      <td>0.946017</td>\n",
       "      <td>0.475872</td>\n",
       "      <td>-0.721066</td>\n",
       "      <td>-0.808918</td>\n",
       "      <td>-0.867613</td>\n",
       "      <td>0.849126</td>\n",
       "      <td>-0.4251</td>\n",
       "      <td>-0.233962</td>\n",
       "      <td>-0.245113</td>\n",
       "      <td>-0.124773</td>\n",
       "      <td>-1.517476</td>\n",
       "      <td>-0.208461</td>\n",
       "      <td>0.428694</td>\n",
       "      <td>0.417262</td>\n",
       "      <td>0.611996</td>\n",
       "      <td>-0.289905</td>\n",
       "      <td>-0.57002</td>\n",
       "      <td>1.039879</td>\n",
       "      <td>1.278465</td>\n",
       "      <td>-0.179951</td>\n",
       "      <td>-0.783852</td>\n",
       "      <td>1.159493</td>\n",
       "      <td>-0.423786</td>\n",
       "      <td>-0.096648</td>\n",
       "      <td>0.923623</td>\n",
       "      <td>-0.063052</td>\n",
       "      <td>-0.889575</td>\n",
       "      <td>-0.121882</td>\n",
       "      <td>0.239652</td>\n",
       "      <td>0.195694</td>\n",
       "      <td>-0.991141</td>\n",
       "      <td>0.796779</td>\n",
       "      <td>0.480227</td>\n",
       "      <td>-0.506998</td>\n",
       "      <td>-1.246748</td>\n",
       "      <td>-0.170234</td>\n",
       "      <td>-0.121317</td>\n",
       "      <td>-0.252789</td>\n",
       "      <td>1.040599</td>\n",
       "    </tr>\n",
       "    <tr>\n",
       "      <th>1</th>\n",
       "      <td>0.098966</td>\n",
       "      <td>-2.254510</td>\n",
       "      <td>0.661555</td>\n",
       "      <td>-0.635352</td>\n",
       "      <td>-0.962293</td>\n",
       "      <td>-0.337796</td>\n",
       "      <td>-0.428536</td>\n",
       "      <td>-0.529833</td>\n",
       "      <td>-0.627336</td>\n",
       "      <td>-0.221175</td>\n",
       "      <td>0.946017</td>\n",
       "      <td>-2.101405</td>\n",
       "      <td>-0.721066</td>\n",
       "      <td>-0.808918</td>\n",
       "      <td>-0.867613</td>\n",
       "      <td>-0.918153</td>\n",
       "      <td>-0.4621</td>\n",
       "      <td>-0.349579</td>\n",
       "      <td>-0.245113</td>\n",
       "      <td>-0.207139</td>\n",
       "      <td>-0.010504</td>\n",
       "      <td>-0.594296</td>\n",
       "      <td>-0.030567</td>\n",
       "      <td>0.201651</td>\n",
       "      <td>0.120232</td>\n",
       "      <td>0.060336</td>\n",
       "      <td>-0.57002</td>\n",
       "      <td>-0.286760</td>\n",
       "      <td>1.053988</td>\n",
       "      <td>-0.179951</td>\n",
       "      <td>-0.783852</td>\n",
       "      <td>1.159493</td>\n",
       "      <td>-0.423786</td>\n",
       "      <td>-0.096648</td>\n",
       "      <td>-1.082693</td>\n",
       "      <td>-0.063052</td>\n",
       "      <td>1.124132</td>\n",
       "      <td>-0.121882</td>\n",
       "      <td>-1.000470</td>\n",
       "      <td>0.195694</td>\n",
       "      <td>-0.991141</td>\n",
       "      <td>-1.255054</td>\n",
       "      <td>0.480227</td>\n",
       "      <td>-0.506998</td>\n",
       "      <td>-1.246748</td>\n",
       "      <td>-0.170234</td>\n",
       "      <td>-0.121317</td>\n",
       "      <td>-0.252789</td>\n",
       "      <td>-0.960985</td>\n",
       "    </tr>\n",
       "  </tbody>\n",
       "</table>\n",
       "</div>"
      ],
      "text/plain": [
       "   host_has_profile_pic  host_identity_verified  latitude  longitude  \\\n",
       "0              0.098966                0.443555  0.252809  -0.496903   \n",
       "1              0.098966               -2.254510  0.661555  -0.635352   \n",
       "\n",
       "   accommodates  bathrooms_text  bedrooms      beds     price  minimum_nights  \\\n",
       "0      0.616660       -0.337796 -0.428536 -0.529833  0.261656        0.321440   \n",
       "1     -0.962293       -0.337796 -0.428536 -0.529833 -0.627336       -0.221175   \n",
       "\n",
       "   maximum_nights  has_availability  availability_30  availability_60  \\\n",
       "0        0.946017          0.475872        -0.721066        -0.808918   \n",
       "1        0.946017         -2.101405        -0.721066        -0.808918   \n",
       "\n",
       "   availability_90  availability_365  number_of_reviews  \\\n",
       "0        -0.867613          0.849126            -0.4251   \n",
       "1        -0.867613         -0.918153            -0.4621   \n",
       "\n",
       "   number_of_reviews_ltm  number_of_reviews_l30d  review_scores_rating  \\\n",
       "0              -0.233962               -0.245113             -0.124773   \n",
       "1              -0.349579               -0.245113             -0.207139   \n",
       "\n",
       "   review_scores_accuracy  review_scores_cleanliness  review_scores_checkin  \\\n",
       "0               -1.517476                  -0.208461               0.428694   \n",
       "1               -0.010504                  -0.594296              -0.030567   \n",
       "\n",
       "   review_scores_communication  review_scores_location  review_scores_value  \\\n",
       "0                     0.417262                0.611996            -0.289905   \n",
       "1                     0.201651                0.120232             0.060336   \n",
       "\n",
       "   instant_bookable  calculated_host_listings_count  host_months     Bronx  \\\n",
       "0          -0.57002                        1.039879     1.278465 -0.179951   \n",
       "1          -0.57002                       -0.286760     1.053988 -0.179951   \n",
       "\n",
       "   Brooklyn  Manhattan    Queens  Staten Island  Entire home/apt  Hotel room  \\\n",
       "0 -0.783852   1.159493 -0.423786      -0.096648         0.923623   -0.063052   \n",
       "1 -0.783852   1.159493 -0.423786      -0.096648        -1.082693   -0.063052   \n",
       "\n",
       "   Private room  Shared room  amenities_number      wifi        tv  hot water  \\\n",
       "0     -0.889575    -0.121882          0.239652  0.195694 -0.991141   0.796779   \n",
       "1      1.124132    -0.121882         -1.000470  0.195694 -0.991141  -1.255054   \n",
       "\n",
       "   air conditioning   bathtub  dedicated workspace  board games  sound system  \\\n",
       "0          0.480227 -0.506998            -1.246748    -0.170234     -0.121317   \n",
       "1          0.480227 -0.506998            -1.246748    -0.170234     -0.121317   \n",
       "\n",
       "   bbq grill  refrigerator  \n",
       "0  -0.252789      1.040599  \n",
       "1  -0.252789     -0.960985  "
      ]
     },
     "execution_count": 39,
     "metadata": {},
     "output_type": "execute_result"
    }
   ],
   "source": [
    "x_copy_imputed.head(2)"
   ]
  },
  {
   "cell_type": "code",
   "execution_count": 40,
   "id": "af7143c9",
   "metadata": {},
   "outputs": [
    {
     "data": {
      "text/plain": [
       "count    22476.000000\n",
       "mean        -0.072109\n",
       "std          0.956063\n",
       "min         -5.740641\n",
       "25%         -0.124773\n",
       "50%          0.212179\n",
       "75%          0.449293\n",
       "max          0.499212\n",
       "Name: review_scores_rating, dtype: float64"
      ]
     },
     "execution_count": 40,
     "metadata": {},
     "output_type": "execute_result"
    }
   ],
   "source": [
    "x_copy_imputed['review_scores_rating'].describe()"
   ]
  },
  {
   "cell_type": "code",
   "execution_count": 41,
   "id": "192c7b49",
   "metadata": {},
   "outputs": [
    {
     "data": {
      "text/plain": [
       "((22476, 49), (22476, 49))"
      ]
     },
     "execution_count": 41,
     "metadata": {},
     "output_type": "execute_result"
    }
   ],
   "source": [
    "X_train.shape, x_copy_imputed.shape"
   ]
  },
  {
   "cell_type": "code",
   "execution_count": 42,
   "id": "3d32249f",
   "metadata": {},
   "outputs": [
    {
     "data": {
      "text/plain": [
       "0"
      ]
     },
     "execution_count": 42,
     "metadata": {},
     "output_type": "execute_result"
    }
   ],
   "source": [
    "x_copy_imputed.isna().sum().sum()"
   ]
  },
  {
   "cell_type": "code",
   "execution_count": 43,
   "id": "b1b3b485",
   "metadata": {},
   "outputs": [],
   "source": [
    "# X_train=x_copy"
   ]
  },
  {
   "cell_type": "code",
   "execution_count": 44,
   "id": "27d1a139",
   "metadata": {},
   "outputs": [],
   "source": [
    "x_val_copy_imputed=pd.DataFrame(knn.transform(x_val_copy_s), columns=x_val_copy.columns)"
   ]
  },
  {
   "cell_type": "code",
   "execution_count": 45,
   "id": "030d2b94",
   "metadata": {},
   "outputs": [
    {
     "data": {
      "text/html": [
       "<div>\n",
       "<style scoped>\n",
       "    .dataframe tbody tr th:only-of-type {\n",
       "        vertical-align: middle;\n",
       "    }\n",
       "\n",
       "    .dataframe tbody tr th {\n",
       "        vertical-align: top;\n",
       "    }\n",
       "\n",
       "    .dataframe thead th {\n",
       "        text-align: right;\n",
       "    }\n",
       "</style>\n",
       "<table border=\"1\" class=\"dataframe\">\n",
       "  <thead>\n",
       "    <tr style=\"text-align: right;\">\n",
       "      <th></th>\n",
       "      <th>host_has_profile_pic</th>\n",
       "      <th>host_identity_verified</th>\n",
       "      <th>latitude</th>\n",
       "      <th>longitude</th>\n",
       "      <th>accommodates</th>\n",
       "      <th>bathrooms_text</th>\n",
       "      <th>bedrooms</th>\n",
       "      <th>beds</th>\n",
       "      <th>price</th>\n",
       "      <th>minimum_nights</th>\n",
       "      <th>maximum_nights</th>\n",
       "      <th>has_availability</th>\n",
       "      <th>availability_30</th>\n",
       "      <th>availability_60</th>\n",
       "      <th>availability_90</th>\n",
       "      <th>availability_365</th>\n",
       "      <th>number_of_reviews</th>\n",
       "      <th>number_of_reviews_ltm</th>\n",
       "      <th>number_of_reviews_l30d</th>\n",
       "      <th>review_scores_rating</th>\n",
       "      <th>review_scores_accuracy</th>\n",
       "      <th>review_scores_cleanliness</th>\n",
       "      <th>review_scores_checkin</th>\n",
       "      <th>review_scores_communication</th>\n",
       "      <th>review_scores_location</th>\n",
       "      <th>review_scores_value</th>\n",
       "      <th>instant_bookable</th>\n",
       "      <th>calculated_host_listings_count</th>\n",
       "      <th>host_months</th>\n",
       "      <th>Bronx</th>\n",
       "      <th>Brooklyn</th>\n",
       "      <th>Manhattan</th>\n",
       "      <th>Queens</th>\n",
       "      <th>Staten Island</th>\n",
       "      <th>Entire home/apt</th>\n",
       "      <th>Hotel room</th>\n",
       "      <th>Private room</th>\n",
       "      <th>Shared room</th>\n",
       "      <th>amenities_number</th>\n",
       "      <th>wifi</th>\n",
       "      <th>tv</th>\n",
       "      <th>hot water</th>\n",
       "      <th>air conditioning</th>\n",
       "      <th>bathtub</th>\n",
       "      <th>dedicated workspace</th>\n",
       "      <th>board games</th>\n",
       "      <th>sound system</th>\n",
       "      <th>bbq grill</th>\n",
       "      <th>refrigerator</th>\n",
       "    </tr>\n",
       "  </thead>\n",
       "  <tbody>\n",
       "    <tr>\n",
       "      <th>0</th>\n",
       "      <td>0.098966</td>\n",
       "      <td>0.443555</td>\n",
       "      <td>0.560166</td>\n",
       "      <td>-0.968571</td>\n",
       "      <td>0.090342</td>\n",
       "      <td>-0.337796</td>\n",
       "      <td>-0.428536</td>\n",
       "      <td>-0.529833</td>\n",
       "      <td>0.469718</td>\n",
       "      <td>0.32144</td>\n",
       "      <td>0.946017</td>\n",
       "      <td>0.475872</td>\n",
       "      <td>0.520173</td>\n",
       "      <td>1.112425</td>\n",
       "      <td>1.248262</td>\n",
       "      <td>1.568865</td>\n",
       "      <td>-0.4621</td>\n",
       "      <td>-0.349579</td>\n",
       "      <td>-0.245113</td>\n",
       "      <td>0.436814</td>\n",
       "      <td>0.282744</td>\n",
       "      <td>0.580748</td>\n",
       "      <td>0.199064</td>\n",
       "      <td>-0.264069</td>\n",
       "      <td>0.611996</td>\n",
       "      <td>0.324963</td>\n",
       "      <td>-0.57002</td>\n",
       "      <td>0.691908</td>\n",
       "      <td>0.85757</td>\n",
       "      <td>-0.179951</td>\n",
       "      <td>-0.783852</td>\n",
       "      <td>1.159493</td>\n",
       "      <td>-0.423786</td>\n",
       "      <td>-0.096648</td>\n",
       "      <td>0.923623</td>\n",
       "      <td>-0.063052</td>\n",
       "      <td>-0.889575</td>\n",
       "      <td>-0.121882</td>\n",
       "      <td>0.322327</td>\n",
       "      <td>0.195694</td>\n",
       "      <td>-0.991141</td>\n",
       "      <td>-1.255054</td>\n",
       "      <td>0.480227</td>\n",
       "      <td>-0.506998</td>\n",
       "      <td>0.802087</td>\n",
       "      <td>-0.170234</td>\n",
       "      <td>-0.121317</td>\n",
       "      <td>-0.252789</td>\n",
       "      <td>1.040599</td>\n",
       "    </tr>\n",
       "  </tbody>\n",
       "</table>\n",
       "</div>"
      ],
      "text/plain": [
       "   host_has_profile_pic  host_identity_verified  latitude  longitude  \\\n",
       "0              0.098966                0.443555  0.560166  -0.968571   \n",
       "\n",
       "   accommodates  bathrooms_text  bedrooms      beds     price  minimum_nights  \\\n",
       "0      0.090342       -0.337796 -0.428536 -0.529833  0.469718         0.32144   \n",
       "\n",
       "   maximum_nights  has_availability  availability_30  availability_60  \\\n",
       "0        0.946017          0.475872         0.520173         1.112425   \n",
       "\n",
       "   availability_90  availability_365  number_of_reviews  \\\n",
       "0         1.248262          1.568865            -0.4621   \n",
       "\n",
       "   number_of_reviews_ltm  number_of_reviews_l30d  review_scores_rating  \\\n",
       "0              -0.349579               -0.245113              0.436814   \n",
       "\n",
       "   review_scores_accuracy  review_scores_cleanliness  review_scores_checkin  \\\n",
       "0                0.282744                   0.580748               0.199064   \n",
       "\n",
       "   review_scores_communication  review_scores_location  review_scores_value  \\\n",
       "0                    -0.264069                0.611996             0.324963   \n",
       "\n",
       "   instant_bookable  calculated_host_listings_count  host_months     Bronx  \\\n",
       "0          -0.57002                        0.691908      0.85757 -0.179951   \n",
       "\n",
       "   Brooklyn  Manhattan    Queens  Staten Island  Entire home/apt  Hotel room  \\\n",
       "0 -0.783852   1.159493 -0.423786      -0.096648         0.923623   -0.063052   \n",
       "\n",
       "   Private room  Shared room  amenities_number      wifi        tv  hot water  \\\n",
       "0     -0.889575    -0.121882          0.322327  0.195694 -0.991141  -1.255054   \n",
       "\n",
       "   air conditioning   bathtub  dedicated workspace  board games  sound system  \\\n",
       "0          0.480227 -0.506998             0.802087    -0.170234     -0.121317   \n",
       "\n",
       "   bbq grill  refrigerator  \n",
       "0  -0.252789      1.040599  "
      ]
     },
     "execution_count": 45,
     "metadata": {},
     "output_type": "execute_result"
    }
   ],
   "source": [
    "x_val_copy_imputed.head(1)"
   ]
  },
  {
   "cell_type": "code",
   "execution_count": 46,
   "id": "49807773",
   "metadata": {},
   "outputs": [],
   "source": [
    "x_test_copy_imputed = pd.DataFrame(knn.transform(x_test_copy_s), columns=x_test_copy.columns)"
   ]
  },
  {
   "cell_type": "code",
   "execution_count": 47,
   "id": "9627a4ee",
   "metadata": {},
   "outputs": [
    {
     "data": {
      "text/html": [
       "<div>\n",
       "<style scoped>\n",
       "    .dataframe tbody tr th:only-of-type {\n",
       "        vertical-align: middle;\n",
       "    }\n",
       "\n",
       "    .dataframe tbody tr th {\n",
       "        vertical-align: top;\n",
       "    }\n",
       "\n",
       "    .dataframe thead th {\n",
       "        text-align: right;\n",
       "    }\n",
       "</style>\n",
       "<table border=\"1\" class=\"dataframe\">\n",
       "  <thead>\n",
       "    <tr style=\"text-align: right;\">\n",
       "      <th></th>\n",
       "      <th>host_has_profile_pic</th>\n",
       "      <th>host_identity_verified</th>\n",
       "      <th>latitude</th>\n",
       "      <th>longitude</th>\n",
       "      <th>accommodates</th>\n",
       "      <th>bathrooms_text</th>\n",
       "      <th>bedrooms</th>\n",
       "      <th>beds</th>\n",
       "      <th>price</th>\n",
       "      <th>minimum_nights</th>\n",
       "      <th>maximum_nights</th>\n",
       "      <th>has_availability</th>\n",
       "      <th>availability_30</th>\n",
       "      <th>availability_60</th>\n",
       "      <th>availability_90</th>\n",
       "      <th>availability_365</th>\n",
       "      <th>number_of_reviews</th>\n",
       "      <th>number_of_reviews_ltm</th>\n",
       "      <th>number_of_reviews_l30d</th>\n",
       "      <th>review_scores_rating</th>\n",
       "      <th>review_scores_accuracy</th>\n",
       "      <th>review_scores_cleanliness</th>\n",
       "      <th>review_scores_checkin</th>\n",
       "      <th>review_scores_communication</th>\n",
       "      <th>review_scores_location</th>\n",
       "      <th>review_scores_value</th>\n",
       "      <th>instant_bookable</th>\n",
       "      <th>calculated_host_listings_count</th>\n",
       "      <th>host_months</th>\n",
       "      <th>Bronx</th>\n",
       "      <th>Brooklyn</th>\n",
       "      <th>Manhattan</th>\n",
       "      <th>Queens</th>\n",
       "      <th>Staten Island</th>\n",
       "      <th>Entire home/apt</th>\n",
       "      <th>Hotel room</th>\n",
       "      <th>Private room</th>\n",
       "      <th>Shared room</th>\n",
       "      <th>amenities_number</th>\n",
       "      <th>wifi</th>\n",
       "      <th>tv</th>\n",
       "      <th>hot water</th>\n",
       "      <th>air conditioning</th>\n",
       "      <th>bathtub</th>\n",
       "      <th>dedicated workspace</th>\n",
       "      <th>board games</th>\n",
       "      <th>sound system</th>\n",
       "      <th>bbq grill</th>\n",
       "      <th>refrigerator</th>\n",
       "    </tr>\n",
       "  </thead>\n",
       "  <tbody>\n",
       "    <tr>\n",
       "      <th>0</th>\n",
       "      <td>0.098966</td>\n",
       "      <td>0.443555</td>\n",
       "      <td>-0.7469</td>\n",
       "      <td>0.041634</td>\n",
       "      <td>-0.435975</td>\n",
       "      <td>-0.337796</td>\n",
       "      <td>-0.428536</td>\n",
       "      <td>0.089275</td>\n",
       "      <td>-0.658861</td>\n",
       "      <td>0.32144</td>\n",
       "      <td>0.946017</td>\n",
       "      <td>0.475872</td>\n",
       "      <td>-0.721066</td>\n",
       "      <td>-0.808918</td>\n",
       "      <td>-0.781835</td>\n",
       "      <td>0.385928</td>\n",
       "      <td>-0.4251</td>\n",
       "      <td>-0.291771</td>\n",
       "      <td>-0.245113</td>\n",
       "      <td>0.499212</td>\n",
       "      <td>0.518972</td>\n",
       "      <td>0.668438</td>\n",
       "      <td>0.428694</td>\n",
       "      <td>0.417262</td>\n",
       "      <td>0.611996</td>\n",
       "      <td>0.682987</td>\n",
       "      <td>-0.57002</td>\n",
       "      <td>-0.134523</td>\n",
       "      <td>0.268318</td>\n",
       "      <td>-0.179951</td>\n",
       "      <td>1.275752</td>\n",
       "      <td>-0.862446</td>\n",
       "      <td>-0.423786</td>\n",
       "      <td>-0.096648</td>\n",
       "      <td>-1.082693</td>\n",
       "      <td>-0.063052</td>\n",
       "      <td>1.124132</td>\n",
       "      <td>-0.121882</td>\n",
       "      <td>-0.66977</td>\n",
       "      <td>0.195694</td>\n",
       "      <td>-0.991141</td>\n",
       "      <td>-1.255054</td>\n",
       "      <td>-2.08235</td>\n",
       "      <td>-0.506998</td>\n",
       "      <td>0.802087</td>\n",
       "      <td>-0.170234</td>\n",
       "      <td>-0.121317</td>\n",
       "      <td>-0.252789</td>\n",
       "      <td>-0.960985</td>\n",
       "    </tr>\n",
       "  </tbody>\n",
       "</table>\n",
       "</div>"
      ],
      "text/plain": [
       "   host_has_profile_pic  host_identity_verified  latitude  longitude  \\\n",
       "0              0.098966                0.443555   -0.7469   0.041634   \n",
       "\n",
       "   accommodates  bathrooms_text  bedrooms      beds     price  minimum_nights  \\\n",
       "0     -0.435975       -0.337796 -0.428536  0.089275 -0.658861         0.32144   \n",
       "\n",
       "   maximum_nights  has_availability  availability_30  availability_60  \\\n",
       "0        0.946017          0.475872        -0.721066        -0.808918   \n",
       "\n",
       "   availability_90  availability_365  number_of_reviews  \\\n",
       "0        -0.781835          0.385928            -0.4251   \n",
       "\n",
       "   number_of_reviews_ltm  number_of_reviews_l30d  review_scores_rating  \\\n",
       "0              -0.291771               -0.245113              0.499212   \n",
       "\n",
       "   review_scores_accuracy  review_scores_cleanliness  review_scores_checkin  \\\n",
       "0                0.518972                   0.668438               0.428694   \n",
       "\n",
       "   review_scores_communication  review_scores_location  review_scores_value  \\\n",
       "0                     0.417262                0.611996             0.682987   \n",
       "\n",
       "   instant_bookable  calculated_host_listings_count  host_months     Bronx  \\\n",
       "0          -0.57002                       -0.134523     0.268318 -0.179951   \n",
       "\n",
       "   Brooklyn  Manhattan    Queens  Staten Island  Entire home/apt  Hotel room  \\\n",
       "0  1.275752  -0.862446 -0.423786      -0.096648        -1.082693   -0.063052   \n",
       "\n",
       "   Private room  Shared room  amenities_number      wifi        tv  hot water  \\\n",
       "0      1.124132    -0.121882          -0.66977  0.195694 -0.991141  -1.255054   \n",
       "\n",
       "   air conditioning   bathtub  dedicated workspace  board games  sound system  \\\n",
       "0          -2.08235 -0.506998             0.802087    -0.170234     -0.121317   \n",
       "\n",
       "   bbq grill  refrigerator  \n",
       "0  -0.252789     -0.960985  "
      ]
     },
     "execution_count": 47,
     "metadata": {},
     "output_type": "execute_result"
    }
   ],
   "source": [
    "x_test_copy_imputed.head(1)"
   ]
  },
  {
   "cell_type": "code",
   "execution_count": 48,
   "id": "3048937f",
   "metadata": {},
   "outputs": [
    {
     "data": {
      "text/plain": [
       "((7492, 49), (7492, 49))"
      ]
     },
     "execution_count": 48,
     "metadata": {},
     "output_type": "execute_result"
    }
   ],
   "source": [
    "X_validation.shape, x_val_copy_imputed.shape"
   ]
  },
  {
   "cell_type": "code",
   "execution_count": 49,
   "id": "e623c590",
   "metadata": {},
   "outputs": [
    {
     "data": {
      "text/plain": [
       "((7492, 49), (7492, 49))"
      ]
     },
     "execution_count": 49,
     "metadata": {},
     "output_type": "execute_result"
    }
   ],
   "source": [
    "X_test.shape, x_test_copy_imputed.shape"
   ]
  },
  {
   "cell_type": "markdown",
   "id": "b22825b9",
   "metadata": {},
   "source": [
    "Get indexes back:\n",
    "- as during scaling and the KNN imputing indexes were set to the default, we lost row names corresponding to the target column indexes. That will create a problem during modelling. We need to restore indexes first."
   ]
  },
  {
   "cell_type": "code",
   "execution_count": 50,
   "id": "f289e6d7",
   "metadata": {},
   "outputs": [],
   "source": [
    "x_copy_imputed.index = X_train.index"
   ]
  },
  {
   "cell_type": "code",
   "execution_count": 51,
   "id": "df5a24c1",
   "metadata": {},
   "outputs": [
    {
     "data": {
      "text/html": [
       "<div>\n",
       "<style scoped>\n",
       "    .dataframe tbody tr th:only-of-type {\n",
       "        vertical-align: middle;\n",
       "    }\n",
       "\n",
       "    .dataframe tbody tr th {\n",
       "        vertical-align: top;\n",
       "    }\n",
       "\n",
       "    .dataframe thead th {\n",
       "        text-align: right;\n",
       "    }\n",
       "</style>\n",
       "<table border=\"1\" class=\"dataframe\">\n",
       "  <thead>\n",
       "    <tr style=\"text-align: right;\">\n",
       "      <th></th>\n",
       "      <th>host_has_profile_pic</th>\n",
       "      <th>host_identity_verified</th>\n",
       "      <th>latitude</th>\n",
       "      <th>longitude</th>\n",
       "      <th>accommodates</th>\n",
       "      <th>bathrooms_text</th>\n",
       "      <th>bedrooms</th>\n",
       "      <th>beds</th>\n",
       "      <th>price</th>\n",
       "      <th>minimum_nights</th>\n",
       "      <th>maximum_nights</th>\n",
       "      <th>has_availability</th>\n",
       "      <th>availability_30</th>\n",
       "      <th>availability_60</th>\n",
       "      <th>availability_90</th>\n",
       "      <th>availability_365</th>\n",
       "      <th>number_of_reviews</th>\n",
       "      <th>number_of_reviews_ltm</th>\n",
       "      <th>number_of_reviews_l30d</th>\n",
       "      <th>review_scores_rating</th>\n",
       "      <th>review_scores_accuracy</th>\n",
       "      <th>review_scores_cleanliness</th>\n",
       "      <th>review_scores_checkin</th>\n",
       "      <th>review_scores_communication</th>\n",
       "      <th>review_scores_location</th>\n",
       "      <th>review_scores_value</th>\n",
       "      <th>instant_bookable</th>\n",
       "      <th>calculated_host_listings_count</th>\n",
       "      <th>host_months</th>\n",
       "      <th>Bronx</th>\n",
       "      <th>Brooklyn</th>\n",
       "      <th>Manhattan</th>\n",
       "      <th>Queens</th>\n",
       "      <th>Staten Island</th>\n",
       "      <th>Entire home/apt</th>\n",
       "      <th>Hotel room</th>\n",
       "      <th>Private room</th>\n",
       "      <th>Shared room</th>\n",
       "      <th>amenities_number</th>\n",
       "      <th>wifi</th>\n",
       "      <th>tv</th>\n",
       "      <th>hot water</th>\n",
       "      <th>air conditioning</th>\n",
       "      <th>bathtub</th>\n",
       "      <th>dedicated workspace</th>\n",
       "      <th>board games</th>\n",
       "      <th>sound system</th>\n",
       "      <th>bbq grill</th>\n",
       "      <th>refrigerator</th>\n",
       "    </tr>\n",
       "  </thead>\n",
       "  <tbody>\n",
       "    <tr>\n",
       "      <th>24872</th>\n",
       "      <td>0.098966</td>\n",
       "      <td>0.443555</td>\n",
       "      <td>0.252809</td>\n",
       "      <td>-0.496903</td>\n",
       "      <td>0.61666</td>\n",
       "      <td>-0.337796</td>\n",
       "      <td>-0.428536</td>\n",
       "      <td>-0.529833</td>\n",
       "      <td>0.261656</td>\n",
       "      <td>0.32144</td>\n",
       "      <td>0.946017</td>\n",
       "      <td>0.475872</td>\n",
       "      <td>-0.721066</td>\n",
       "      <td>-0.808918</td>\n",
       "      <td>-0.867613</td>\n",
       "      <td>0.849126</td>\n",
       "      <td>-0.4251</td>\n",
       "      <td>-0.233962</td>\n",
       "      <td>-0.245113</td>\n",
       "      <td>-0.124773</td>\n",
       "      <td>-1.517476</td>\n",
       "      <td>-0.208461</td>\n",
       "      <td>0.428694</td>\n",
       "      <td>0.417262</td>\n",
       "      <td>0.611996</td>\n",
       "      <td>-0.289905</td>\n",
       "      <td>-0.57002</td>\n",
       "      <td>1.039879</td>\n",
       "      <td>1.278465</td>\n",
       "      <td>-0.179951</td>\n",
       "      <td>-0.783852</td>\n",
       "      <td>1.159493</td>\n",
       "      <td>-0.423786</td>\n",
       "      <td>-0.096648</td>\n",
       "      <td>0.923623</td>\n",
       "      <td>-0.063052</td>\n",
       "      <td>-0.889575</td>\n",
       "      <td>-0.121882</td>\n",
       "      <td>0.239652</td>\n",
       "      <td>0.195694</td>\n",
       "      <td>-0.991141</td>\n",
       "      <td>0.796779</td>\n",
       "      <td>0.480227</td>\n",
       "      <td>-0.506998</td>\n",
       "      <td>-1.246748</td>\n",
       "      <td>-0.170234</td>\n",
       "      <td>-0.121317</td>\n",
       "      <td>-0.252789</td>\n",
       "      <td>1.040599</td>\n",
       "    </tr>\n",
       "  </tbody>\n",
       "</table>\n",
       "</div>"
      ],
      "text/plain": [
       "       host_has_profile_pic  host_identity_verified  latitude  longitude  \\\n",
       "24872              0.098966                0.443555  0.252809  -0.496903   \n",
       "\n",
       "       accommodates  bathrooms_text  bedrooms      beds     price  \\\n",
       "24872       0.61666       -0.337796 -0.428536 -0.529833  0.261656   \n",
       "\n",
       "       minimum_nights  maximum_nights  has_availability  availability_30  \\\n",
       "24872         0.32144        0.946017          0.475872        -0.721066   \n",
       "\n",
       "       availability_60  availability_90  availability_365  number_of_reviews  \\\n",
       "24872        -0.808918        -0.867613          0.849126            -0.4251   \n",
       "\n",
       "       number_of_reviews_ltm  number_of_reviews_l30d  review_scores_rating  \\\n",
       "24872              -0.233962               -0.245113             -0.124773   \n",
       "\n",
       "       review_scores_accuracy  review_scores_cleanliness  \\\n",
       "24872               -1.517476                  -0.208461   \n",
       "\n",
       "       review_scores_checkin  review_scores_communication  \\\n",
       "24872               0.428694                     0.417262   \n",
       "\n",
       "       review_scores_location  review_scores_value  instant_bookable  \\\n",
       "24872                0.611996            -0.289905          -0.57002   \n",
       "\n",
       "       calculated_host_listings_count  host_months     Bronx  Brooklyn  \\\n",
       "24872                        1.039879     1.278465 -0.179951 -0.783852   \n",
       "\n",
       "       Manhattan    Queens  Staten Island  Entire home/apt  Hotel room  \\\n",
       "24872   1.159493 -0.423786      -0.096648         0.923623   -0.063052   \n",
       "\n",
       "       Private room  Shared room  amenities_number      wifi        tv  \\\n",
       "24872     -0.889575    -0.121882          0.239652  0.195694 -0.991141   \n",
       "\n",
       "       hot water  air conditioning   bathtub  dedicated workspace  \\\n",
       "24872   0.796779          0.480227 -0.506998            -1.246748   \n",
       "\n",
       "       board games  sound system  bbq grill  refrigerator  \n",
       "24872    -0.170234     -0.121317  -0.252789      1.040599  "
      ]
     },
     "execution_count": 51,
     "metadata": {},
     "output_type": "execute_result"
    }
   ],
   "source": [
    "x_copy_imputed.head(1)"
   ]
  },
  {
   "cell_type": "code",
   "execution_count": 52,
   "id": "b4e70cdb",
   "metadata": {},
   "outputs": [],
   "source": [
    "x_val_copy_imputed.index = X_validation.index"
   ]
  },
  {
   "cell_type": "code",
   "execution_count": 53,
   "id": "5dd23240",
   "metadata": {},
   "outputs": [],
   "source": [
    "x_test_copy_imputed.index = X_test.index"
   ]
  },
  {
   "cell_type": "code",
   "execution_count": 54,
   "id": "35e4e6f5",
   "metadata": {},
   "outputs": [
    {
     "data": {
      "text/html": [
       "<div>\n",
       "<style scoped>\n",
       "    .dataframe tbody tr th:only-of-type {\n",
       "        vertical-align: middle;\n",
       "    }\n",
       "\n",
       "    .dataframe tbody tr th {\n",
       "        vertical-align: top;\n",
       "    }\n",
       "\n",
       "    .dataframe thead th {\n",
       "        text-align: right;\n",
       "    }\n",
       "</style>\n",
       "<table border=\"1\" class=\"dataframe\">\n",
       "  <thead>\n",
       "    <tr style=\"text-align: right;\">\n",
       "      <th></th>\n",
       "      <th>host_has_profile_pic</th>\n",
       "      <th>host_identity_verified</th>\n",
       "      <th>latitude</th>\n",
       "      <th>longitude</th>\n",
       "      <th>accommodates</th>\n",
       "      <th>bathrooms_text</th>\n",
       "      <th>bedrooms</th>\n",
       "      <th>beds</th>\n",
       "      <th>price</th>\n",
       "      <th>minimum_nights</th>\n",
       "      <th>maximum_nights</th>\n",
       "      <th>has_availability</th>\n",
       "      <th>availability_30</th>\n",
       "      <th>availability_60</th>\n",
       "      <th>availability_90</th>\n",
       "      <th>availability_365</th>\n",
       "      <th>number_of_reviews</th>\n",
       "      <th>number_of_reviews_ltm</th>\n",
       "      <th>number_of_reviews_l30d</th>\n",
       "      <th>review_scores_rating</th>\n",
       "      <th>review_scores_accuracy</th>\n",
       "      <th>review_scores_cleanliness</th>\n",
       "      <th>review_scores_checkin</th>\n",
       "      <th>review_scores_communication</th>\n",
       "      <th>review_scores_location</th>\n",
       "      <th>review_scores_value</th>\n",
       "      <th>instant_bookable</th>\n",
       "      <th>calculated_host_listings_count</th>\n",
       "      <th>host_months</th>\n",
       "      <th>Bronx</th>\n",
       "      <th>Brooklyn</th>\n",
       "      <th>Manhattan</th>\n",
       "      <th>Queens</th>\n",
       "      <th>Staten Island</th>\n",
       "      <th>Entire home/apt</th>\n",
       "      <th>Hotel room</th>\n",
       "      <th>Private room</th>\n",
       "      <th>Shared room</th>\n",
       "      <th>amenities_number</th>\n",
       "      <th>wifi</th>\n",
       "      <th>tv</th>\n",
       "      <th>hot water</th>\n",
       "      <th>air conditioning</th>\n",
       "      <th>bathtub</th>\n",
       "      <th>dedicated workspace</th>\n",
       "      <th>board games</th>\n",
       "      <th>sound system</th>\n",
       "      <th>bbq grill</th>\n",
       "      <th>refrigerator</th>\n",
       "    </tr>\n",
       "  </thead>\n",
       "  <tbody>\n",
       "    <tr>\n",
       "      <th>24141</th>\n",
       "      <td>0.098966</td>\n",
       "      <td>0.443555</td>\n",
       "      <td>0.560166</td>\n",
       "      <td>-0.968571</td>\n",
       "      <td>0.090342</td>\n",
       "      <td>-0.337796</td>\n",
       "      <td>-0.428536</td>\n",
       "      <td>-0.529833</td>\n",
       "      <td>0.469718</td>\n",
       "      <td>0.32144</td>\n",
       "      <td>0.946017</td>\n",
       "      <td>0.475872</td>\n",
       "      <td>0.520173</td>\n",
       "      <td>1.112425</td>\n",
       "      <td>1.248262</td>\n",
       "      <td>1.568865</td>\n",
       "      <td>-0.4621</td>\n",
       "      <td>-0.349579</td>\n",
       "      <td>-0.245113</td>\n",
       "      <td>0.436814</td>\n",
       "      <td>0.282744</td>\n",
       "      <td>0.580748</td>\n",
       "      <td>0.199064</td>\n",
       "      <td>-0.264069</td>\n",
       "      <td>0.611996</td>\n",
       "      <td>0.324963</td>\n",
       "      <td>-0.57002</td>\n",
       "      <td>0.691908</td>\n",
       "      <td>0.85757</td>\n",
       "      <td>-0.179951</td>\n",
       "      <td>-0.783852</td>\n",
       "      <td>1.159493</td>\n",
       "      <td>-0.423786</td>\n",
       "      <td>-0.096648</td>\n",
       "      <td>0.923623</td>\n",
       "      <td>-0.063052</td>\n",
       "      <td>-0.889575</td>\n",
       "      <td>-0.121882</td>\n",
       "      <td>0.322327</td>\n",
       "      <td>0.195694</td>\n",
       "      <td>-0.991141</td>\n",
       "      <td>-1.255054</td>\n",
       "      <td>0.480227</td>\n",
       "      <td>-0.506998</td>\n",
       "      <td>0.802087</td>\n",
       "      <td>-0.170234</td>\n",
       "      <td>-0.121317</td>\n",
       "      <td>-0.252789</td>\n",
       "      <td>1.040599</td>\n",
       "    </tr>\n",
       "  </tbody>\n",
       "</table>\n",
       "</div>"
      ],
      "text/plain": [
       "       host_has_profile_pic  host_identity_verified  latitude  longitude  \\\n",
       "24141              0.098966                0.443555  0.560166  -0.968571   \n",
       "\n",
       "       accommodates  bathrooms_text  bedrooms      beds     price  \\\n",
       "24141      0.090342       -0.337796 -0.428536 -0.529833  0.469718   \n",
       "\n",
       "       minimum_nights  maximum_nights  has_availability  availability_30  \\\n",
       "24141         0.32144        0.946017          0.475872         0.520173   \n",
       "\n",
       "       availability_60  availability_90  availability_365  number_of_reviews  \\\n",
       "24141         1.112425         1.248262          1.568865            -0.4621   \n",
       "\n",
       "       number_of_reviews_ltm  number_of_reviews_l30d  review_scores_rating  \\\n",
       "24141              -0.349579               -0.245113              0.436814   \n",
       "\n",
       "       review_scores_accuracy  review_scores_cleanliness  \\\n",
       "24141                0.282744                   0.580748   \n",
       "\n",
       "       review_scores_checkin  review_scores_communication  \\\n",
       "24141               0.199064                    -0.264069   \n",
       "\n",
       "       review_scores_location  review_scores_value  instant_bookable  \\\n",
       "24141                0.611996             0.324963          -0.57002   \n",
       "\n",
       "       calculated_host_listings_count  host_months     Bronx  Brooklyn  \\\n",
       "24141                        0.691908      0.85757 -0.179951 -0.783852   \n",
       "\n",
       "       Manhattan    Queens  Staten Island  Entire home/apt  Hotel room  \\\n",
       "24141   1.159493 -0.423786      -0.096648         0.923623   -0.063052   \n",
       "\n",
       "       Private room  Shared room  amenities_number      wifi        tv  \\\n",
       "24141     -0.889575    -0.121882          0.322327  0.195694 -0.991141   \n",
       "\n",
       "       hot water  air conditioning   bathtub  dedicated workspace  \\\n",
       "24141  -1.255054          0.480227 -0.506998             0.802087   \n",
       "\n",
       "       board games  sound system  bbq grill  refrigerator  \n",
       "24141    -0.170234     -0.121317  -0.252789      1.040599  "
      ]
     },
     "execution_count": 54,
     "metadata": {},
     "output_type": "execute_result"
    }
   ],
   "source": [
    "x_val_copy_imputed.head(1)"
   ]
  },
  {
   "cell_type": "code",
   "execution_count": 55,
   "id": "3e5ec859",
   "metadata": {},
   "outputs": [
    {
     "data": {
      "text/html": [
       "<div>\n",
       "<style scoped>\n",
       "    .dataframe tbody tr th:only-of-type {\n",
       "        vertical-align: middle;\n",
       "    }\n",
       "\n",
       "    .dataframe tbody tr th {\n",
       "        vertical-align: top;\n",
       "    }\n",
       "\n",
       "    .dataframe thead th {\n",
       "        text-align: right;\n",
       "    }\n",
       "</style>\n",
       "<table border=\"1\" class=\"dataframe\">\n",
       "  <thead>\n",
       "    <tr style=\"text-align: right;\">\n",
       "      <th></th>\n",
       "      <th>host_has_profile_pic</th>\n",
       "      <th>host_identity_verified</th>\n",
       "      <th>latitude</th>\n",
       "      <th>longitude</th>\n",
       "      <th>accommodates</th>\n",
       "      <th>bathrooms_text</th>\n",
       "      <th>bedrooms</th>\n",
       "      <th>beds</th>\n",
       "      <th>price</th>\n",
       "      <th>minimum_nights</th>\n",
       "      <th>maximum_nights</th>\n",
       "      <th>has_availability</th>\n",
       "      <th>availability_30</th>\n",
       "      <th>availability_60</th>\n",
       "      <th>availability_90</th>\n",
       "      <th>availability_365</th>\n",
       "      <th>number_of_reviews</th>\n",
       "      <th>number_of_reviews_ltm</th>\n",
       "      <th>number_of_reviews_l30d</th>\n",
       "      <th>review_scores_rating</th>\n",
       "      <th>review_scores_accuracy</th>\n",
       "      <th>review_scores_cleanliness</th>\n",
       "      <th>review_scores_checkin</th>\n",
       "      <th>review_scores_communication</th>\n",
       "      <th>review_scores_location</th>\n",
       "      <th>review_scores_value</th>\n",
       "      <th>instant_bookable</th>\n",
       "      <th>calculated_host_listings_count</th>\n",
       "      <th>host_months</th>\n",
       "      <th>Bronx</th>\n",
       "      <th>Brooklyn</th>\n",
       "      <th>Manhattan</th>\n",
       "      <th>Queens</th>\n",
       "      <th>Staten Island</th>\n",
       "      <th>Entire home/apt</th>\n",
       "      <th>Hotel room</th>\n",
       "      <th>Private room</th>\n",
       "      <th>Shared room</th>\n",
       "      <th>amenities_number</th>\n",
       "      <th>wifi</th>\n",
       "      <th>tv</th>\n",
       "      <th>hot water</th>\n",
       "      <th>air conditioning</th>\n",
       "      <th>bathtub</th>\n",
       "      <th>dedicated workspace</th>\n",
       "      <th>board games</th>\n",
       "      <th>sound system</th>\n",
       "      <th>bbq grill</th>\n",
       "      <th>refrigerator</th>\n",
       "    </tr>\n",
       "  </thead>\n",
       "  <tbody>\n",
       "    <tr>\n",
       "      <th>25792</th>\n",
       "      <td>0.098966</td>\n",
       "      <td>0.443555</td>\n",
       "      <td>-0.7469</td>\n",
       "      <td>0.041634</td>\n",
       "      <td>-0.435975</td>\n",
       "      <td>-0.337796</td>\n",
       "      <td>-0.428536</td>\n",
       "      <td>0.089275</td>\n",
       "      <td>-0.658861</td>\n",
       "      <td>0.32144</td>\n",
       "      <td>0.946017</td>\n",
       "      <td>0.475872</td>\n",
       "      <td>-0.721066</td>\n",
       "      <td>-0.808918</td>\n",
       "      <td>-0.781835</td>\n",
       "      <td>0.385928</td>\n",
       "      <td>-0.4251</td>\n",
       "      <td>-0.291771</td>\n",
       "      <td>-0.245113</td>\n",
       "      <td>0.499212</td>\n",
       "      <td>0.518972</td>\n",
       "      <td>0.668438</td>\n",
       "      <td>0.428694</td>\n",
       "      <td>0.417262</td>\n",
       "      <td>0.611996</td>\n",
       "      <td>0.682987</td>\n",
       "      <td>-0.57002</td>\n",
       "      <td>-0.134523</td>\n",
       "      <td>0.268318</td>\n",
       "      <td>-0.179951</td>\n",
       "      <td>1.275752</td>\n",
       "      <td>-0.862446</td>\n",
       "      <td>-0.423786</td>\n",
       "      <td>-0.096648</td>\n",
       "      <td>-1.082693</td>\n",
       "      <td>-0.063052</td>\n",
       "      <td>1.124132</td>\n",
       "      <td>-0.121882</td>\n",
       "      <td>-0.66977</td>\n",
       "      <td>0.195694</td>\n",
       "      <td>-0.991141</td>\n",
       "      <td>-1.255054</td>\n",
       "      <td>-2.08235</td>\n",
       "      <td>-0.506998</td>\n",
       "      <td>0.802087</td>\n",
       "      <td>-0.170234</td>\n",
       "      <td>-0.121317</td>\n",
       "      <td>-0.252789</td>\n",
       "      <td>-0.960985</td>\n",
       "    </tr>\n",
       "  </tbody>\n",
       "</table>\n",
       "</div>"
      ],
      "text/plain": [
       "       host_has_profile_pic  host_identity_verified  latitude  longitude  \\\n",
       "25792              0.098966                0.443555   -0.7469   0.041634   \n",
       "\n",
       "       accommodates  bathrooms_text  bedrooms      beds     price  \\\n",
       "25792     -0.435975       -0.337796 -0.428536  0.089275 -0.658861   \n",
       "\n",
       "       minimum_nights  maximum_nights  has_availability  availability_30  \\\n",
       "25792         0.32144        0.946017          0.475872        -0.721066   \n",
       "\n",
       "       availability_60  availability_90  availability_365  number_of_reviews  \\\n",
       "25792        -0.808918        -0.781835          0.385928            -0.4251   \n",
       "\n",
       "       number_of_reviews_ltm  number_of_reviews_l30d  review_scores_rating  \\\n",
       "25792              -0.291771               -0.245113              0.499212   \n",
       "\n",
       "       review_scores_accuracy  review_scores_cleanliness  \\\n",
       "25792                0.518972                   0.668438   \n",
       "\n",
       "       review_scores_checkin  review_scores_communication  \\\n",
       "25792               0.428694                     0.417262   \n",
       "\n",
       "       review_scores_location  review_scores_value  instant_bookable  \\\n",
       "25792                0.611996             0.682987          -0.57002   \n",
       "\n",
       "       calculated_host_listings_count  host_months     Bronx  Brooklyn  \\\n",
       "25792                       -0.134523     0.268318 -0.179951  1.275752   \n",
       "\n",
       "       Manhattan    Queens  Staten Island  Entire home/apt  Hotel room  \\\n",
       "25792  -0.862446 -0.423786      -0.096648        -1.082693   -0.063052   \n",
       "\n",
       "       Private room  Shared room  amenities_number      wifi        tv  \\\n",
       "25792      1.124132    -0.121882          -0.66977  0.195694 -0.991141   \n",
       "\n",
       "       hot water  air conditioning   bathtub  dedicated workspace  \\\n",
       "25792  -1.255054          -2.08235 -0.506998             0.802087   \n",
       "\n",
       "       board games  sound system  bbq grill  refrigerator  \n",
       "25792    -0.170234     -0.121317  -0.252789     -0.960985  "
      ]
     },
     "execution_count": 55,
     "metadata": {},
     "output_type": "execute_result"
    }
   ],
   "source": [
    "x_test_copy_imputed.head(1)"
   ]
  },
  {
   "cell_type": "markdown",
   "id": "eb5d265e",
   "metadata": {},
   "source": [
    "Column names and indexes are restored"
   ]
  },
  {
   "cell_type": "markdown",
   "id": "947219ce",
   "metadata": {},
   "source": [
    "Values imputed, no missing values, we can model the data"
   ]
  },
  {
   "cell_type": "code",
   "execution_count": 56,
   "id": "7b11ed19",
   "metadata": {},
   "outputs": [
    {
     "name": "stdout",
     "output_type": "stream",
     "text": [
      "Stored 'x_copy_imputed' (DataFrame)\n"
     ]
    }
   ],
   "source": [
    "%store x_copy_imputed"
   ]
  },
  {
   "cell_type": "code",
   "execution_count": 57,
   "id": "27063a2c",
   "metadata": {},
   "outputs": [
    {
     "name": "stdout",
     "output_type": "stream",
     "text": [
      "Stored 'x_val_copy_imputed' (DataFrame)\n"
     ]
    }
   ],
   "source": [
    "%store x_val_copy_imputed"
   ]
  },
  {
   "cell_type": "code",
   "execution_count": 58,
   "id": "5949f4b2",
   "metadata": {
    "scrolled": true
   },
   "outputs": [
    {
     "name": "stdout",
     "output_type": "stream",
     "text": [
      "Stored 'x_test_copy_imputed' (DataFrame)\n"
     ]
    }
   ],
   "source": [
    "%store x_test_copy_imputed"
   ]
  },
  {
   "cell_type": "markdown",
   "id": "4d7a8a62",
   "metadata": {},
   "source": [
    "Stored variables"
   ]
  },
  {
   "cell_type": "markdown",
   "id": "b2ba4ace",
   "metadata": {},
   "source": [
    "Rename and use as X_train, X_val, and X_test"
   ]
  },
  {
   "cell_type": "code",
   "execution_count": 59,
   "id": "8030651a",
   "metadata": {},
   "outputs": [],
   "source": [
    "X_train= x_copy_imputed"
   ]
  },
  {
   "cell_type": "code",
   "execution_count": 60,
   "id": "cd68f6f2",
   "metadata": {},
   "outputs": [],
   "source": [
    "X_val = x_val_copy_imputed"
   ]
  },
  {
   "cell_type": "code",
   "execution_count": 61,
   "id": "198545b6",
   "metadata": {},
   "outputs": [],
   "source": [
    "X_test = x_test_copy_imputed"
   ]
  },
  {
   "cell_type": "code",
   "execution_count": 62,
   "id": "0a348a57",
   "metadata": {},
   "outputs": [
    {
     "name": "stdout",
     "output_type": "stream",
     "text": [
      "Stored 'X_train' (DataFrame)\n"
     ]
    }
   ],
   "source": [
    "%store X_train"
   ]
  },
  {
   "cell_type": "code",
   "execution_count": 63,
   "id": "35aa1bf0",
   "metadata": {},
   "outputs": [
    {
     "name": "stdout",
     "output_type": "stream",
     "text": [
      "Stored 'X_val' (DataFrame)\n"
     ]
    }
   ],
   "source": [
    "%store X_val"
   ]
  },
  {
   "cell_type": "code",
   "execution_count": 64,
   "id": "82802647",
   "metadata": {
    "scrolled": false
   },
   "outputs": [
    {
     "name": "stdout",
     "output_type": "stream",
     "text": [
      "Stored 'X_test' (DataFrame)\n"
     ]
    }
   ],
   "source": [
    "%store X_test"
   ]
  },
  {
   "cell_type": "markdown",
   "id": "64989558",
   "metadata": {},
   "source": [
    "---"
   ]
  },
  {
   "cell_type": "markdown",
   "id": "9107a3d0",
   "metadata": {},
   "source": [
    "## Scale the data using Standard Scaler"
   ]
  },
  {
   "cell_type": "markdown",
   "id": "adfe0e09",
   "metadata": {},
   "source": [
    "As our data is already scaled for the purposes of KNN imputer, no need to scale it again. We will use this data for Logistic regression, KNN and Decision trees. Although Decision trees don't require a scaled data as it is not a distance-based model."
   ]
  },
  {
   "cell_type": "markdown",
   "id": "a073f0f6",
   "metadata": {},
   "source": [
    "## Basic Logistic Regression"
   ]
  },
  {
   "cell_type": "markdown",
   "id": "e61ecfe8",
   "metadata": {},
   "source": [
    "Run basic model:"
   ]
  },
  {
   "cell_type": "code",
   "execution_count": 73,
   "id": "38483c62",
   "metadata": {},
   "outputs": [],
   "source": [
    "clf = LogisticRegression(random_state=0, solver='lbfgs', max_iter=10000).fit(X_train, y_train)\n",
    "# running basic Logistic regression model\n",
    "# solver set to lbfgs\n",
    "# number of max iterations set to 10000 as the model cannot converge at lower iterations\n",
    "# random_state ensures the same results when the model is runned\n",
    "# using scaled data"
   ]
  },
  {
   "cell_type": "code",
   "execution_count": 75,
   "id": "8c3be31e",
   "metadata": {},
   "outputs": [
    {
     "data": {
      "text/plain": [
       "0.8327549386011746"
      ]
     },
     "execution_count": 75,
     "metadata": {},
     "output_type": "execute_result"
    }
   ],
   "source": [
    "# extract train score\n",
    "clf.score(X_train, y_train)"
   ]
  },
  {
   "cell_type": "code",
   "execution_count": 76,
   "id": "8b13d298",
   "metadata": {},
   "outputs": [
    {
     "data": {
      "text/plain": [
       "array([[ 0.04492976,  0.010942  , -0.12499021,  0.13211015, -0.07641917,\n",
       "        -0.04741668,  0.04883547,  0.05640624, -0.03796839, -0.02626062,\n",
       "        -0.07824166,  1.50043322,  0.03254618, -0.12354929, -0.0129412 ,\n",
       "         0.02751722,  0.28409985,  0.44970139, -0.13997061,  1.57505793,\n",
       "         0.03396083,  0.41395405,  0.07841359,  0.55776644, -0.14656875,\n",
       "        -0.05873308, -0.07317348,  0.24613771,  0.07703017,  0.05884664,\n",
       "        -0.00437716, -0.00471058, -0.02784586,  0.04387972, -0.03380004,\n",
       "        -0.32601892,  0.07447888,  0.00279377,  0.5214531 , -0.10573571,\n",
       "         0.08686423,  0.08039264,  0.00486832, -0.15782618,  0.04891729,\n",
       "        -0.04746786,  0.02114828, -0.07965686,  0.05599833]])"
      ]
     },
     "execution_count": 76,
     "metadata": {},
     "output_type": "execute_result"
    }
   ],
   "source": [
    "coef = clf.coef_\n",
    "coef"
   ]
  },
  {
   "cell_type": "code",
   "execution_count": 86,
   "id": "0e1a5c1c",
   "metadata": {},
   "outputs": [],
   "source": [
    "# extract names of all features (columns) in the dataset, name the list\n",
    "feature_list=list(X_train.columns)\n"
   ]
  },
  {
   "cell_type": "code",
   "execution_count": 78,
   "id": "bdce70f9",
   "metadata": {},
   "outputs": [
    {
     "data": {
      "text/html": [
       "<div>\n",
       "<style scoped>\n",
       "    .dataframe tbody tr th:only-of-type {\n",
       "        vertical-align: middle;\n",
       "    }\n",
       "\n",
       "    .dataframe tbody tr th {\n",
       "        vertical-align: top;\n",
       "    }\n",
       "\n",
       "    .dataframe thead th {\n",
       "        text-align: right;\n",
       "    }\n",
       "</style>\n",
       "<table border=\"1\" class=\"dataframe\">\n",
       "  <thead>\n",
       "    <tr style=\"text-align: right;\">\n",
       "      <th></th>\n",
       "      <th>host_has_profile_pic</th>\n",
       "      <th>host_identity_verified</th>\n",
       "      <th>latitude</th>\n",
       "      <th>longitude</th>\n",
       "      <th>accommodates</th>\n",
       "      <th>bathrooms_text</th>\n",
       "      <th>bedrooms</th>\n",
       "      <th>beds</th>\n",
       "      <th>price</th>\n",
       "      <th>minimum_nights</th>\n",
       "      <th>maximum_nights</th>\n",
       "      <th>has_availability</th>\n",
       "      <th>availability_30</th>\n",
       "      <th>availability_60</th>\n",
       "      <th>availability_90</th>\n",
       "      <th>availability_365</th>\n",
       "      <th>number_of_reviews</th>\n",
       "      <th>number_of_reviews_ltm</th>\n",
       "      <th>number_of_reviews_l30d</th>\n",
       "      <th>review_scores_rating</th>\n",
       "      <th>review_scores_accuracy</th>\n",
       "      <th>review_scores_cleanliness</th>\n",
       "      <th>review_scores_checkin</th>\n",
       "      <th>review_scores_communication</th>\n",
       "      <th>review_scores_location</th>\n",
       "      <th>review_scores_value</th>\n",
       "      <th>instant_bookable</th>\n",
       "      <th>calculated_host_listings_count</th>\n",
       "      <th>host_months</th>\n",
       "      <th>Bronx</th>\n",
       "      <th>Brooklyn</th>\n",
       "      <th>Manhattan</th>\n",
       "      <th>Queens</th>\n",
       "      <th>Staten Island</th>\n",
       "      <th>Entire home/apt</th>\n",
       "      <th>Hotel room</th>\n",
       "      <th>Private room</th>\n",
       "      <th>Shared room</th>\n",
       "      <th>amenities_number</th>\n",
       "      <th>wifi</th>\n",
       "      <th>tv</th>\n",
       "      <th>hot water</th>\n",
       "      <th>air conditioning</th>\n",
       "      <th>bathtub</th>\n",
       "      <th>dedicated workspace</th>\n",
       "      <th>board games</th>\n",
       "      <th>sound system</th>\n",
       "      <th>bbq grill</th>\n",
       "      <th>refrigerator</th>\n",
       "    </tr>\n",
       "  </thead>\n",
       "  <tbody>\n",
       "    <tr>\n",
       "      <th>0</th>\n",
       "      <td>0.04493</td>\n",
       "      <td>0.010942</td>\n",
       "      <td>-0.12499</td>\n",
       "      <td>0.13211</td>\n",
       "      <td>-0.076419</td>\n",
       "      <td>-0.047417</td>\n",
       "      <td>0.048835</td>\n",
       "      <td>0.056406</td>\n",
       "      <td>-0.037968</td>\n",
       "      <td>-0.026261</td>\n",
       "      <td>-0.078242</td>\n",
       "      <td>1.500433</td>\n",
       "      <td>0.032546</td>\n",
       "      <td>-0.123549</td>\n",
       "      <td>-0.012941</td>\n",
       "      <td>0.027517</td>\n",
       "      <td>0.2841</td>\n",
       "      <td>0.449701</td>\n",
       "      <td>-0.139971</td>\n",
       "      <td>1.575058</td>\n",
       "      <td>0.033961</td>\n",
       "      <td>0.413954</td>\n",
       "      <td>0.078414</td>\n",
       "      <td>0.557766</td>\n",
       "      <td>-0.146569</td>\n",
       "      <td>-0.058733</td>\n",
       "      <td>-0.073173</td>\n",
       "      <td>0.246138</td>\n",
       "      <td>0.07703</td>\n",
       "      <td>0.058847</td>\n",
       "      <td>-0.004377</td>\n",
       "      <td>-0.004711</td>\n",
       "      <td>-0.027846</td>\n",
       "      <td>0.04388</td>\n",
       "      <td>-0.0338</td>\n",
       "      <td>-0.326019</td>\n",
       "      <td>0.074479</td>\n",
       "      <td>0.002794</td>\n",
       "      <td>0.521453</td>\n",
       "      <td>-0.105736</td>\n",
       "      <td>0.086864</td>\n",
       "      <td>0.080393</td>\n",
       "      <td>0.004868</td>\n",
       "      <td>-0.157826</td>\n",
       "      <td>0.048917</td>\n",
       "      <td>-0.047468</td>\n",
       "      <td>0.021148</td>\n",
       "      <td>-0.079657</td>\n",
       "      <td>0.055998</td>\n",
       "    </tr>\n",
       "  </tbody>\n",
       "</table>\n",
       "</div>"
      ],
      "text/plain": [
       "   host_has_profile_pic  host_identity_verified  latitude  longitude  \\\n",
       "0               0.04493                0.010942  -0.12499    0.13211   \n",
       "\n",
       "   accommodates  bathrooms_text  bedrooms      beds     price  minimum_nights  \\\n",
       "0     -0.076419       -0.047417  0.048835  0.056406 -0.037968       -0.026261   \n",
       "\n",
       "   maximum_nights  has_availability  availability_30  availability_60  \\\n",
       "0       -0.078242          1.500433         0.032546        -0.123549   \n",
       "\n",
       "   availability_90  availability_365  number_of_reviews  \\\n",
       "0        -0.012941          0.027517             0.2841   \n",
       "\n",
       "   number_of_reviews_ltm  number_of_reviews_l30d  review_scores_rating  \\\n",
       "0               0.449701               -0.139971              1.575058   \n",
       "\n",
       "   review_scores_accuracy  review_scores_cleanliness  review_scores_checkin  \\\n",
       "0                0.033961                   0.413954               0.078414   \n",
       "\n",
       "   review_scores_communication  review_scores_location  review_scores_value  \\\n",
       "0                     0.557766               -0.146569            -0.058733   \n",
       "\n",
       "   instant_bookable  calculated_host_listings_count  host_months     Bronx  \\\n",
       "0         -0.073173                        0.246138      0.07703  0.058847   \n",
       "\n",
       "   Brooklyn  Manhattan    Queens  Staten Island  Entire home/apt  Hotel room  \\\n",
       "0 -0.004377  -0.004711 -0.027846        0.04388          -0.0338   -0.326019   \n",
       "\n",
       "   Private room  Shared room  amenities_number      wifi        tv  hot water  \\\n",
       "0      0.074479     0.002794          0.521453 -0.105736  0.086864   0.080393   \n",
       "\n",
       "   air conditioning   bathtub  dedicated workspace  board games  sound system  \\\n",
       "0          0.004868 -0.157826             0.048917    -0.047468      0.021148   \n",
       "\n",
       "   bbq grill  refrigerator  \n",
       "0  -0.079657      0.055998  "
      ]
     },
     "execution_count": 78,
     "metadata": {},
     "output_type": "execute_result"
    }
   ],
   "source": [
    "#convert array of coefficients into the dataframe\n",
    "coef_df= pd.DataFrame(coef, columns=feature_list)\n",
    "coef_df"
   ]
  },
  {
   "cell_type": "code",
   "execution_count": 79,
   "id": "8163c2fa",
   "metadata": {},
   "outputs": [
    {
     "data": {
      "text/html": [
       "<div>\n",
       "<style scoped>\n",
       "    .dataframe tbody tr th:only-of-type {\n",
       "        vertical-align: middle;\n",
       "    }\n",
       "\n",
       "    .dataframe tbody tr th {\n",
       "        vertical-align: top;\n",
       "    }\n",
       "\n",
       "    .dataframe thead th {\n",
       "        text-align: right;\n",
       "    }\n",
       "</style>\n",
       "<table border=\"1\" class=\"dataframe\">\n",
       "  <thead>\n",
       "    <tr style=\"text-align: right;\">\n",
       "      <th></th>\n",
       "      <th>Predicted Negative Rating</th>\n",
       "      <th>Predicted Positive Rating</th>\n",
       "    </tr>\n",
       "  </thead>\n",
       "  <tbody>\n",
       "    <tr>\n",
       "      <th>True Negative Rating</th>\n",
       "      <td>5667</td>\n",
       "      <td>267</td>\n",
       "    </tr>\n",
       "    <tr>\n",
       "      <th>True Positive Rating</th>\n",
       "      <td>995</td>\n",
       "      <td>563</td>\n",
       "    </tr>\n",
       "  </tbody>\n",
       "</table>\n",
       "</div>"
      ],
      "text/plain": [
       "                      Predicted Negative Rating  Predicted Positive Rating\n",
       "True Negative Rating                       5667                        267\n",
       "True Positive Rating                        995                        563"
      ]
     },
     "metadata": {},
     "output_type": "display_data"
    }
   ],
   "source": [
    "from sklearn.metrics import plot_confusion_matrix, confusion_matrix\n",
    "\n",
    "#fit the model\n",
    "Logis_model = LogisticRegression(random_state=0, solver='lbfgs', max_iter=10000)\n",
    "Logis_model.fit(X_train, y_train)\n",
    "\n",
    "# Get class predictions\n",
    "y_pred = Logis_model.predict(X_val)\n",
    "\n",
    "# Generate confusion matrix\n",
    "cf_matrix = confusion_matrix(y_validation, y_pred)\n",
    "\n",
    "# label rows and columns\n",
    "cf_df = pd.DataFrame(\n",
    "        cf_matrix, \n",
    "        columns=[\"Predicted Negative Rating\", \"Predicted Positive Rating\"],\n",
    "        index=[\"True Negative Rating\", \"True Positive Rating\"]\n",
    " )\n",
    "\n",
    "display(cf_df)"
   ]
  },
  {
   "cell_type": "markdown",
   "id": "df130996",
   "metadata": {},
   "source": [
    "Let's plot the confusion matrix for the better visuality"
   ]
  },
  {
   "cell_type": "code",
   "execution_count": 80,
   "id": "17084e2b",
   "metadata": {
    "scrolled": true
   },
   "outputs": [
    {
     "data": {
      "image/png": "[encoded data removed]",
      "text/plain": [
       "<Figure size 432x288 with 2 Axes>"
      ]
     },
     "metadata": {
      "needs_background": "light"
     },
     "output_type": "display_data"
    }
   ],
   "source": [
    "from sklearn.metrics import ConfusionMatrixDisplay\n",
    "\n",
    "ConfusionMatrixDisplay(cf_matrix).plot()\n",
    "plt.show()"
   ]
  },
  {
   "cell_type": "code",
   "execution_count": 82,
   "id": "e5480bf1",
   "metadata": {},
   "outputs": [
    {
     "data": {
      "text/plain": [
       "0.6783132530120481"
      ]
     },
     "execution_count": 82,
     "metadata": {},
     "output_type": "execute_result"
    }
   ],
   "source": [
    "# Precision \n",
    "from sklearn.metrics import precision_score\n",
    "\n",
    "# precision_score(true labels, predicted labels)\n",
    "precision_score(y_validation, y_pred)"
   ]
  },
  {
   "cell_type": "code",
   "execution_count": 83,
   "id": "ca51bf16",
   "metadata": {},
   "outputs": [
    {
     "data": {
      "text/plain": [
       "0.3613607188703466"
      ]
     },
     "execution_count": 83,
     "metadata": {},
     "output_type": "execute_result"
    }
   ],
   "source": [
    "# Recall\n",
    "from sklearn.metrics import recall_score\n",
    "\n",
    "#recall_score(true labels, predicted labels)\n",
    "recall_score(y_validation, y_pred)"
   ]
  },
  {
   "cell_type": "code",
   "execution_count": 84,
   "id": "89bcbe16",
   "metadata": {},
   "outputs": [
    {
     "data": {
      "text/plain": [
       "0.4715242881072027"
      ]
     },
     "execution_count": 84,
     "metadata": {},
     "output_type": "execute_result"
    }
   ],
   "source": [
    "from sklearn.metrics import f1_score\n",
    "\n",
    "f1_score(y_validation, y_pred)"
   ]
  },
  {
   "cell_type": "code",
   "execution_count": 85,
   "id": "2e3ee01e",
   "metadata": {},
   "outputs": [
    {
     "name": "stdout",
     "output_type": "stream",
     "text": [
      "              precision    recall  f1-score   support\n",
      "\n",
      "           0       0.85      0.96      0.90      5934\n",
      "           1       0.68      0.36      0.47      1558\n",
      "\n",
      "    accuracy                           0.83      7492\n",
      "   macro avg       0.76      0.66      0.69      7492\n",
      "weighted avg       0.81      0.83      0.81      7492\n",
      "\n"
     ]
    }
   ],
   "source": [
    "from sklearn.metrics import classification_report\n",
    "\n",
    "report_initial = classification_report(y_validation, y_pred)\n",
    "print(report_initial)"
   ]
  },
  {
   "cell_type": "markdown",
   "id": "5a30d4aa",
   "metadata": {},
   "source": [
    "As we see, even if the score is 83%, slightly higher than the underlying class distribution, confusion matrix shows high degree of FP and FN errors: precision is 68% and recall is 36% which is very low. \n",
    "\n",
    "- the basic model predicts others better than the superhosts. I might be related to class imbalance. \n",
    "- for now, let's try to optimize C values."
   ]
  },
  {
   "cell_type": "markdown",
   "id": "f1bf8964",
   "metadata": {},
   "source": [
    "---"
   ]
  },
  {
   "cell_type": "markdown",
   "id": "9ddb0d79",
   "metadata": {},
   "source": [
    "### Basic C optimization"
   ]
  },
  {
   "cell_type": "code",
   "execution_count": 87,
   "id": "2e3a1368",
   "metadata": {},
   "outputs": [
    {
     "name": "stdout",
     "output_type": "stream",
     "text": [
      "Working on my model with C=100.0...\r"
     ]
    }
   ],
   "source": [
    "# We will try to optimize C values by using the following range and using power of 10 as regularization measure\n",
    "C_range = 10.**np.arange(-3, 3)\n",
    "\n",
    "train_acc = []\n",
    "validation_acc = []\n",
    "\n",
    "for C in C_range: \n",
    "    print(f\"Working on my model with C={C}...\", end=\"\\r\")\n",
    "    \n",
    "    #Instantiate the model & fit it to our data\n",
    "    LR_model = LogisticRegression(C=C, max_iter=10000)\n",
    "    LR_model.fit(X_train, y_train)\n",
    "    \n",
    "    #Score the model on the test set\n",
    "    train_accuracy = LR_model.score(X_train, y_train)\n",
    "    validation_accuracy = LR_model.score(X_val, y_validation)\n",
    "    \n",
    "    train_acc.append(train_accuracy)\n",
    "    validation_acc.append(validation_accuracy)\n",
    "    precision_score(y_validation, y_validation)\n",
    "    recall_score(y_validation, y_validation)"
   ]
  },
  {
   "cell_type": "code",
   "execution_count": 88,
   "id": "00abdf4f",
   "metadata": {},
   "outputs": [
    {
     "data": {
      "image/png": "[encoded data removed]",
      "text/plain": [
       "<Figure size 720x504 with 1 Axes>"
      ]
     },
     "metadata": {
      "needs_background": "light"
     },
     "output_type": "display_data"
    }
   ],
   "source": [
    "plt.figure(figsize=(10, 7))\n",
    "plt.plot(C_range, validation_acc, color=\"red\", label=\"validation\")\n",
    "plt.plot(C_range, train_acc, color=\"blue\", label=\"train\")\n",
    "plt.ylabel(\"Accuracy Score\")\n",
    "plt.xlabel(\"C (log scale)\")\n",
    "plt.xscale(\"log\")\n",
    "plt.title('LR: Varying the regularization parameter C')\n",
    "plt.legend()\n",
    "plt.show()"
   ]
  },
  {
   "cell_type": "markdown",
   "id": "9d3f5631",
   "metadata": {},
   "source": [
    "Regularization does not help to improve the model performance"
   ]
  },
  {
   "cell_type": "markdown",
   "id": "f8915434",
   "metadata": {},
   "source": [
    "---"
   ]
  },
  {
   "cell_type": "markdown",
   "id": "ea41d014",
   "metadata": {},
   "source": [
    "## Basic KNN\n",
    "- use scaled data"
   ]
  },
  {
   "cell_type": "code",
   "execution_count": 92,
   "id": "d805dedd",
   "metadata": {},
   "outputs": [
    {
     "name": "stdout",
     "output_type": "stream",
     "text": [
      "Validation set accuracy: 0.8231446876668447\n"
     ]
    }
   ],
   "source": [
    "#from sklearn.neighbors import KNeighborsClassifier\n",
    "\n",
    "# Split our data into train & test sets\n",
    "\n",
    "# Instantiate the model & fit it to our data using 3 neighbours\n",
    "KNN_model = KNeighborsClassifier(n_neighbors=3)\n",
    "KNN_model.fit(X_train, y_train)\n",
    "\n",
    "# Score the model on the test set\n",
    "validation_predictions = KNN_model.predict(X_val)\n",
    "validation_accuracy = accuracy_score(validation_predictions, y_validation)\n",
    "print(f\"Validation set accuracy: {validation_accuracy}\")\n",
    "\n"
   ]
  },
  {
   "cell_type": "code",
   "execution_count": 91,
   "id": "6eda5f09",
   "metadata": {},
   "outputs": [
    {
     "name": "stdout",
     "output_type": "stream",
     "text": [
      "Number of neighbors: 5\n",
      "Train accuracy: 0.8811621284926143\n",
      "Validation accuracy: 0.8282167645488521\n"
     ]
    }
   ],
   "source": [
    "Default KNN model using\n",
    "\n",
    "KNN_model = KNeighborsClassifier()\n",
    "KNN_model.fit(X_train, y_train)\n",
    "\n",
    "print(\"Number of neighbors:\", KNN_model.n_neighbors)\n",
    "print(\"Train accuracy:\", KNN_model.score(X_train, y_train))\n",
    "print(\"Validation accuracy:\", KNN_model.score(X_val, y_validation))"
   ]
  },
  {
   "cell_type": "markdown",
   "id": "02c18d51",
   "metadata": {},
   "source": [
    "With increased number of neighbors, training set performance increase, validation set accuracy dropped. let's optimize k-neighnours values further."
   ]
  },
  {
   "cell_type": "code",
   "execution_count": 94,
   "id": "c4d4cf05",
   "metadata": {},
   "outputs": [
    {
     "name": "stdout",
     "output_type": "stream",
     "text": [
      "Working on my model with 19 neighbors...\r"
     ]
    }
   ],
   "source": [
    "# define the range for k-values from 1 to 19\n",
    "\n",
    "neighbors = range(1, 20)  # step by 2 so only odd numbers show up\n",
    "\n",
    "train_acc = []\n",
    "validation_acc = []\n",
    "\n",
    "for n in neighbors: \n",
    "    print(f\"Working on my model with {n} neighbors...\", end=\"\\r\")\n",
    "    \n",
    "    #Instantiate the model & fit it to our data\n",
    "    KNN_model = KNeighborsClassifier(n_neighbors=n)\n",
    "    KNN_model.fit(X_train, y_train)\n",
    "    \n",
    "    #Score the model on the test set\n",
    "    train_accuracy = KNN_model.score(X_train, y_train)\n",
    "    validation_accuracy = KNN_model.score(X_val, y_validation)\n",
    "    \n",
    "    train_acc.append(train_accuracy)\n",
    "    validation_acc.append(validation_accuracy)"
   ]
  },
  {
   "cell_type": "code",
   "execution_count": 95,
   "id": "968c0927",
   "metadata": {},
   "outputs": [
    {
     "data": {
      "image/png": "[encoded data removed]",
      "text/plain": [
       "<Figure size 720x504 with 1 Axes>"
      ]
     },
     "metadata": {
      "needs_background": "light"
     },
     "output_type": "display_data"
    }
   ],
   "source": [
    "plt.figure(figsize=(10, 7))\n",
    "plt.plot(neighbors, validation_acc, color=\"red\", label=\"validation\")\n",
    "plt.plot(neighbors, train_acc, color=\"blue\", label=\"train\")\n",
    "plt.ylabel(\"Accuracy Score\")\n",
    "plt.xlabel(\"Number of neighbors\")\n",
    "plt.title('KNN: Varying Number of Neighbors')\n",
    "plt.legend()\n",
    "plt.show()\n",
    "# over, underfitting analysis"
   ]
  },
  {
   "cell_type": "code",
   "execution_count": 96,
   "id": "153feb1e",
   "metadata": {},
   "outputs": [
    {
     "data": {
      "text/plain": [
       "16"
      ]
     },
     "execution_count": 96,
     "metadata": {},
     "output_type": "execute_result"
    }
   ],
   "source": [
    "#Calculate the ideal k value: \n",
    "\n",
    "# index the value that is largest in the test accuracy\n",
    "index_of_max = np.argmax(validation_acc)\n",
    "\n",
    "# the corresponding best k value\n",
    "best_k = neighbors[index_of_max]\n",
    "\n",
    "best_k"
   ]
  },
  {
   "cell_type": "code",
   "execution_count": 98,
   "id": "b711c8aa",
   "metadata": {},
   "outputs": [
    {
     "name": "stdout",
     "output_type": "stream",
     "text": [
      "Number of neighbors: 16\n",
      "Train accuracy: 0.8480601530521445\n",
      "Validation accuracy: 0.8350240256273358\n"
     ]
    }
   ],
   "source": [
    "# Best-k KNN model\n",
    "\n",
    "KNN_model = KNeighborsClassifier(n_neighbors=16)\n",
    "KNN_model.fit(X_train, y_train)\n",
    "\n",
    "print(\"Number of neighbors:\", KNN_model.n_neighbors)\n",
    "print(\"Train accuracy:\", KNN_model.score(X_train, y_train))\n",
    "print(\"Validation accuracy:\", KNN_model.score(X_val, y_validation))"
   ]
  },
  {
   "cell_type": "markdown",
   "id": "7364cbd2",
   "metadata": {},
   "source": [
    "Accuracy for Validation increased by 1% only. Let's see how the confusion matrix looks."
   ]
  },
  {
   "cell_type": "markdown",
   "id": "e03ce7fc",
   "metadata": {},
   "source": [
    "Build a confusion matrix for KNN (neigh=16)"
   ]
  },
  {
   "cell_type": "code",
   "execution_count": 99,
   "id": "0096855b",
   "metadata": {},
   "outputs": [
    {
     "data": {
      "text/html": [
       "<div>\n",
       "<style scoped>\n",
       "    .dataframe tbody tr th:only-of-type {\n",
       "        vertical-align: middle;\n",
       "    }\n",
       "\n",
       "    .dataframe tbody tr th {\n",
       "        vertical-align: top;\n",
       "    }\n",
       "\n",
       "    .dataframe thead th {\n",
       "        text-align: right;\n",
       "    }\n",
       "</style>\n",
       "<table border=\"1\" class=\"dataframe\">\n",
       "  <thead>\n",
       "    <tr style=\"text-align: right;\">\n",
       "      <th></th>\n",
       "      <th>Predicted Negative Rating</th>\n",
       "      <th>Predicted Positive Rating</th>\n",
       "    </tr>\n",
       "  </thead>\n",
       "  <tbody>\n",
       "    <tr>\n",
       "      <th>True Negative Rating</th>\n",
       "      <td>5676</td>\n",
       "      <td>258</td>\n",
       "    </tr>\n",
       "    <tr>\n",
       "      <th>True Positive Rating</th>\n",
       "      <td>978</td>\n",
       "      <td>580</td>\n",
       "    </tr>\n",
       "  </tbody>\n",
       "</table>\n",
       "</div>"
      ],
      "text/plain": [
       "                      Predicted Negative Rating  Predicted Positive Rating\n",
       "True Negative Rating                       5676                        258\n",
       "True Positive Rating                        978                        580"
      ]
     },
     "metadata": {},
     "output_type": "display_data"
    }
   ],
   "source": [
    "#fit the model\n",
    "KNN_model = KNeighborsClassifier(n_neighbors=16)\n",
    "KNN_model.fit(X_train, y_train)\n",
    "\n",
    "# Get class predictions\n",
    "y_pred = KNN_model.predict(X_val)\n",
    "\n",
    "# Generate confusion matrix\n",
    "cf_matrix = confusion_matrix(y_validation, y_pred)\n",
    "\n",
    "# label rows and columns\n",
    "cf_df = pd.DataFrame(\n",
    "        cf_matrix, \n",
    "        columns=[\"Predicted Negative Rating\", \"Predicted Positive Rating\"],\n",
    "        index=[\"True Negative Rating\", \"True Positive Rating\"]\n",
    " )\n",
    "\n",
    "display(cf_df)"
   ]
  },
  {
   "cell_type": "code",
   "execution_count": 100,
   "id": "35fec67f",
   "metadata": {},
   "outputs": [
    {
     "name": "stdout",
     "output_type": "stream",
     "text": [
      "              precision    recall  f1-score   support\n",
      "\n",
      "           0       0.85      0.96      0.90      5934\n",
      "           1       0.69      0.37      0.48      1558\n",
      "\n",
      "    accuracy                           0.84      7492\n",
      "   macro avg       0.77      0.66      0.69      7492\n",
      "weighted avg       0.82      0.84      0.81      7492\n",
      "\n"
     ]
    }
   ],
   "source": [
    "from sklearn.metrics import classification_report\n",
    "\n",
    "report_initial = classification_report(y_validation, y_pred)\n",
    "print(report_initial)"
   ]
  },
  {
   "cell_type": "markdown",
   "id": "cb8eb7b7",
   "metadata": {},
   "source": [
    "Accuracy increased to 84%.\n",
    "Compared to Logistic Regression, KNN basic performs slightly better with f-score 0.48 compared to 0.47, and precision and recall also increased by 0.01. This is a negligible improvement. results are almost identical. The models fail to predict super hosts. Possible reason:\n",
    "- Airbnb labelling of the superhosts is managed by other factors not presented in our dataset and features in ou dataset are not powerful enough to show the difference in two classes. \n",
    "- Sample size is small for the superhost samples and combined with the previous reason, it makes impossible for the model to predict superhosts. It just predicts everybody ans not-superhost (as the most representative group in the model)"
   ]
  },
  {
   "cell_type": "markdown",
   "id": "4a9630e7",
   "metadata": {},
   "source": [
    "---"
   ]
  },
  {
   "cell_type": "markdown",
   "id": "1f69bbdc",
   "metadata": {},
   "source": [
    "## Decision Trees"
   ]
  },
  {
   "cell_type": "markdown",
   "id": "68ef2d55",
   "metadata": {},
   "source": [
    "Create a basic model, to avoid overfitting use depth from 1 to 9 and see if the model reaches its optimum; less overfitting in trainign set, and maximized accuracy in validation set."
   ]
  },
  {
   "cell_type": "code",
   "execution_count": 101,
   "id": "7aaf84bf",
   "metadata": {},
   "outputs": [
    {
     "name": "stdout",
     "output_type": "stream",
     "text": [
      "Fitting with max depth = 1\n",
      "Fitting with max depth = 2\n",
      "Fitting with max depth = 3\n",
      "Fitting with max depth = 4\n",
      "Fitting with max depth = 5\n",
      "Fitting with max depth = 6\n",
      "Fitting with max depth = 7\n",
      "Fitting with max depth = 8\n",
      "Fitting with max depth = 9\n"
     ]
    }
   ],
   "source": [
    "# list for storing accuracy for train and validation\n",
    "train_acc = []\n",
    "validation_acc = []\n",
    "\n",
    "# loop over max_depth values\n",
    "for depth in range(1, 10):\n",
    "    print(f\"Fitting with max depth = {depth}\")\n",
    "    # fit the tree\n",
    "    my_tree = DecisionTreeClassifier(max_depth=depth)\n",
    "    my_tree.fit(X_train, y_train)\n",
    "    \n",
    "    # score on train and append accuracy to list\n",
    "    train_acc.append(my_tree.score(X_train, y_train))\n",
    "    \n",
    "    # score on validation and append to list\n",
    "    validation_acc.append(my_tree.score(X_val, y_validation))"
   ]
  },
  {
   "cell_type": "code",
   "execution_count": 102,
   "id": "b8bb0838",
   "metadata": {
    "scrolled": true
   },
   "outputs": [
    {
     "data": {
      "image/png": "[encoded data removed]",
      "text/plain": [
       "<Figure size 432x288 with 1 Axes>"
      ]
     },
     "metadata": {
      "needs_background": "light"
     },
     "output_type": "display_data"
    }
   ],
   "source": [
    "# plot the accuracy scores\n",
    "plt.figure()\n",
    "plt.plot(range(1, 10), train_acc, label=\"train\")\n",
    "plt.plot(range(1, 10), validation_acc, label=\"valdiation\")\n",
    "plt.title(\"Accuracy scores against different max depth values\")\n",
    "plt.xlabel(\"Max depth\")\n",
    "plt.ylabel(\"Accuracy (%)\")\n",
    "plt.show()"
   ]
  },
  {
   "cell_type": "markdown",
   "id": "807e8900",
   "metadata": {},
   "source": [
    "Depth=7 looks like the optimum depth. Let's build a model based on that hyperparameter"
   ]
  },
  {
   "cell_type": "code",
   "execution_count": 104,
   "id": "dd173b21",
   "metadata": {},
   "outputs": [
    {
     "name": "stdout",
     "output_type": "stream",
     "text": [
      "train score 0.8720412884854957, validation score 0.8634543513080619\n"
     ]
    }
   ],
   "source": [
    "    # fit the tree\n",
    "    my_tree_7 = DecisionTreeClassifier(max_depth=7)\n",
    "    my_tree_7.fit(X_train, y_train)\n",
    "    \n",
    "    # score on train and append accuracy to list\n",
    "    train_acc=my_tree_7.score(X_train, y_train)\n",
    "    \n",
    "    # score on validation and append to list\n",
    "    validation_acc = my_tree_7.score(X_val, y_validation)\n",
    "    \n",
    "    print(f'train score {train_acc}, validation score {validation_acc}')"
   ]
  },
  {
   "cell_type": "code",
   "execution_count": 106,
   "id": "b8535e6a",
   "metadata": {},
   "outputs": [
    {
     "data": {
      "text/html": [
       "<div>\n",
       "<style scoped>\n",
       "    .dataframe tbody tr th:only-of-type {\n",
       "        vertical-align: middle;\n",
       "    }\n",
       "\n",
       "    .dataframe tbody tr th {\n",
       "        vertical-align: top;\n",
       "    }\n",
       "\n",
       "    .dataframe thead th {\n",
       "        text-align: right;\n",
       "    }\n",
       "</style>\n",
       "<table border=\"1\" class=\"dataframe\">\n",
       "  <thead>\n",
       "    <tr style=\"text-align: right;\">\n",
       "      <th></th>\n",
       "      <th>Predicted Negative Rating</th>\n",
       "      <th>Predicted Positive Rating</th>\n",
       "    </tr>\n",
       "  </thead>\n",
       "  <tbody>\n",
       "    <tr>\n",
       "      <th>True Negative Rating</th>\n",
       "      <td>5570</td>\n",
       "      <td>364</td>\n",
       "    </tr>\n",
       "    <tr>\n",
       "      <th>True Positive Rating</th>\n",
       "      <td>659</td>\n",
       "      <td>899</td>\n",
       "    </tr>\n",
       "  </tbody>\n",
       "</table>\n",
       "</div>"
      ],
      "text/plain": [
       "                      Predicted Negative Rating  Predicted Positive Rating\n",
       "True Negative Rating                       5570                        364\n",
       "True Positive Rating                        659                        899"
      ]
     },
     "metadata": {},
     "output_type": "display_data"
    }
   ],
   "source": [
    "# Get class predictions\n",
    "y_pred_dt = my_tree_7.predict(X_val)\n",
    "\n",
    "# Generate confusion matrix\n",
    "cf_matrix = confusion_matrix(y_validation, y_pred_dt)\n",
    "\n",
    "# label rows and columns\n",
    "cf_df = pd.DataFrame(\n",
    "        cf_matrix, \n",
    "        columns=[\"Predicted Negative Rating\", \"Predicted Positive Rating\"],\n",
    "        index=[\"True Negative Rating\", \"True Positive Rating\"]\n",
    " )\n",
    "\n",
    "display(cf_df)"
   ]
  },
  {
   "cell_type": "code",
   "execution_count": 107,
   "id": "ca593aa2",
   "metadata": {},
   "outputs": [
    {
     "name": "stdout",
     "output_type": "stream",
     "text": [
      "              precision    recall  f1-score   support\n",
      "\n",
      "           0       0.89      0.94      0.92      5934\n",
      "           1       0.71      0.58      0.64      1558\n",
      "\n",
      "    accuracy                           0.86      7492\n",
      "   macro avg       0.80      0.76      0.78      7492\n",
      "weighted avg       0.86      0.86      0.86      7492\n",
      "\n"
     ]
    }
   ],
   "source": [
    "from sklearn.metrics import classification_report\n",
    "\n",
    "report_initial = classification_report(y_validation, y_pred_dt)\n",
    "print(report_initial)"
   ]
  },
  {
   "cell_type": "code",
   "execution_count": 108,
   "id": "6c1184e0",
   "metadata": {},
   "outputs": [
    {
     "data": {
      "image/png": "[encoded data removed]",
      "text/plain": [
       "<Figure size 432x288 with 2 Axes>"
      ]
     },
     "metadata": {
      "needs_background": "light"
     },
     "output_type": "display_data"
    }
   ],
   "source": [
    "from sklearn.metrics import ConfusionMatrixDisplay\n",
    "\n",
    "ConfusionMatrixDisplay(cf_matrix).plot()\n",
    "plt.show()"
   ]
  },
  {
   "cell_type": "markdown",
   "id": "ef44894c",
   "metadata": {},
   "source": [
    "**Model result**:"
   ]
  },
  {
   "cell_type": "markdown",
   "id": "2fb9fbb0",
   "metadata": {},
   "source": [
    "Basic Decision Tree with optimized depth to 7 performs significantly better than the logistic regression and the KNN model optimized for the basic parameters.\n",
    "- Recall is 58% and f-score increased to 0.64. Precision is 71%, with accuracy being 86%\n",
    "\n",
    "\n",
    "**Possible reasons**\n",
    "- Decision trees are free from distancing bias; they don't use distance for the measure. They employ the most informative node (feature) and try to set thresholds to attach a sample to a target class. As our EDA showed no linear or similar to linear relation among variables, Decision tree is better model for such a dataset."
   ]
  },
  {
   "cell_type": "markdown",
   "id": "dd134fa5",
   "metadata": {},
   "source": [
    "Let's try to plot our model:"
   ]
  },
  {
   "cell_type": "code",
   "execution_count": 110,
   "id": "c97acf89",
   "metadata": {},
   "outputs": [],
   "source": [
    "from sklearn.tree import plot_tree"
   ]
  },
  {
   "cell_type": "code",
   "execution_count": 129,
   "id": "87a51cf4",
   "metadata": {
    "scrolled": true
   },
   "outputs": [
    {
     "data": {
      "image/png": "[encoded data removed]",
      "text/plain": [
       "<Figure size 1440x720 with 1 Axes>"
      ]
     },
     "metadata": {
      "needs_background": "light"
     },
     "output_type": "display_data"
    }
   ],
   "source": [
    "fig = plt.figure(figsize=(20,10))\n",
    "plot_tree(my_tree_7, \n",
    "          feature_names=X.columns, \n",
    "          class_names=[\"Superhost\", \"Others\"],\n",
    "          rounded=True,\n",
    "          impurity=False,\n",
    "          filled=True);"
   ]
  },
  {
   "cell_type": "markdown",
   "id": "789b6d71",
   "metadata": {},
   "source": [
    "fig.savefig(\"decistion_tree.png\")"
   ]
  },
  {
   "cell_type": "markdown",
   "id": "4aeb90b2",
   "metadata": {},
   "source": [
    "---"
   ]
  },
  {
   "cell_type": "markdown",
   "id": "b53f10d7",
   "metadata": {},
   "source": [
    "## Random Forest"
   ]
  },
  {
   "cell_type": "markdown",
   "id": "e313dec4",
   "metadata": {},
   "source": [
    "As our decision tree performed slighlty better for this dataset, let's boost its performance by using 100 random trees; i.e. a random forest. "
   ]
  },
  {
   "cell_type": "code",
   "execution_count": 65,
   "id": "b31b289d",
   "metadata": {},
   "outputs": [],
   "source": [
    "from sklearn.ensemble import RandomForestClassifier\n",
    "from sklearn.inspection import permutation_importance"
   ]
  },
  {
   "cell_type": "code",
   "execution_count": 66,
   "id": "22c9f63f",
   "metadata": {},
   "outputs": [
    {
     "data": {
      "text/html": [
       "<style>#sk-container-id-3 {color: black;background-color: white;}#sk-container-id-3 pre{padding: 0;}#sk-container-id-3 div.sk-toggleable {background-color: white;}#sk-container-id-3 label.sk-toggleable__label {cursor: pointer;display: block;width: 100%;margin-bottom: 0;padding: 0.3em;box-sizing: border-box;text-align: center;}#sk-container-id-3 label.sk-toggleable__label-arrow:before {content: \"▸\";float: left;margin-right: 0.25em;color: #696969;}#sk-container-id-3 label.sk-toggleable__label-arrow:hover:before {color: black;}#sk-container-id-3 div.sk-estimator:hover label.sk-toggleable__label-arrow:before {color: black;}#sk-container-id-3 div.sk-toggleable__content {max-height: 0;max-width: 0;overflow: hidden;text-align: left;background-color: #f0f8ff;}#sk-container-id-3 div.sk-toggleable__content pre {margin: 0.2em;color: black;border-radius: 0.25em;background-color: #f0f8ff;}#sk-container-id-3 input.sk-toggleable__control:checked~div.sk-toggleable__content {max-height: 200px;max-width: 100%;overflow: auto;}#sk-container-id-3 input.sk-toggleable__control:checked~label.sk-toggleable__label-arrow:before {content: \"▾\";}#sk-container-id-3 div.sk-estimator input.sk-toggleable__control:checked~label.sk-toggleable__label {background-color: #d4ebff;}#sk-container-id-3 div.sk-label input.sk-toggleable__control:checked~label.sk-toggleable__label {background-color: #d4ebff;}#sk-container-id-3 input.sk-hidden--visually {border: 0;clip: rect(1px 1px 1px 1px);clip: rect(1px, 1px, 1px, 1px);height: 1px;margin: -1px;overflow: hidden;padding: 0;position: absolute;width: 1px;}#sk-container-id-3 div.sk-estimator {font-family: monospace;background-color: #f0f8ff;border: 1px dotted black;border-radius: 0.25em;box-sizing: border-box;margin-bottom: 0.5em;}#sk-container-id-3 div.sk-estimator:hover {background-color: #d4ebff;}#sk-container-id-3 div.sk-parallel-item::after {content: \"\";width: 100%;border-bottom: 1px solid gray;flex-grow: 1;}#sk-container-id-3 div.sk-label:hover label.sk-toggleable__label {background-color: #d4ebff;}#sk-container-id-3 div.sk-serial::before {content: \"\";position: absolute;border-left: 1px solid gray;box-sizing: border-box;top: 0;bottom: 0;left: 50%;z-index: 0;}#sk-container-id-3 div.sk-serial {display: flex;flex-direction: column;align-items: center;background-color: white;padding-right: 0.2em;padding-left: 0.2em;position: relative;}#sk-container-id-3 div.sk-item {position: relative;z-index: 1;}#sk-container-id-3 div.sk-parallel {display: flex;align-items: stretch;justify-content: center;background-color: white;position: relative;}#sk-container-id-3 div.sk-item::before, #sk-container-id-3 div.sk-parallel-item::before {content: \"\";position: absolute;border-left: 1px solid gray;box-sizing: border-box;top: 0;bottom: 0;left: 50%;z-index: -1;}#sk-container-id-3 div.sk-parallel-item {display: flex;flex-direction: column;z-index: 1;position: relative;background-color: white;}#sk-container-id-3 div.sk-parallel-item:first-child::after {align-self: flex-end;width: 50%;}#sk-container-id-3 div.sk-parallel-item:last-child::after {align-self: flex-start;width: 50%;}#sk-container-id-3 div.sk-parallel-item:only-child::after {width: 0;}#sk-container-id-3 div.sk-dashed-wrapped {border: 1px dashed gray;margin: 0 0.4em 0.5em 0.4em;box-sizing: border-box;padding-bottom: 0.4em;background-color: white;}#sk-container-id-3 div.sk-label label {font-family: monospace;font-weight: bold;display: inline-block;line-height: 1.2em;}#sk-container-id-3 div.sk-label-container {text-align: center;}#sk-container-id-3 div.sk-container {/* jupyter's `normalize.less` sets `[hidden] { display: none; }` but bootstrap.min.css set `[hidden] { display: none !important; }` so we also need the `!important` here to be able to override the default hidden behavior on the sphinx rendered scikit-learn.org. See: https://github.com/scikit-learn/scikit-learn/issues/21755 */display: inline-block !important;position: relative;}#sk-container-id-3 div.sk-text-repr-fallback {display: none;}</style><div id=\"sk-container-id-3\" class=\"sk-top-container\"><div class=\"sk-text-repr-fallback\"><pre>RandomForestClassifier(random_state=1)</pre><b>In a Jupyter environment, please rerun this cell to show the HTML representation or trust the notebook. <br />On GitHub, the HTML representation is unable to render, please try loading this page with nbviewer.org.</b></div><div class=\"sk-container\" hidden><div class=\"sk-item\"><div class=\"sk-estimator sk-toggleable\"><input class=\"sk-toggleable__control sk-hidden--visually\" id=\"sk-estimator-id-3\" type=\"checkbox\" checked><label for=\"sk-estimator-id-3\" class=\"sk-toggleable__label sk-toggleable__label-arrow\">RandomForestClassifier</label><div class=\"sk-toggleable__content\"><pre>RandomForestClassifier(random_state=1)</pre></div></div></div></div></div>"
      ],
      "text/plain": [
       "RandomForestClassifier(random_state=1)"
      ]
     },
     "execution_count": 66,
     "metadata": {},
     "output_type": "execute_result"
    }
   ],
   "source": [
    "rf = RandomForestClassifier(n_estimators=100, random_state=1)\n",
    "rf.fit(X_train, y_train)"
   ]
  },
  {
   "cell_type": "code",
   "execution_count": 67,
   "id": "8fde51ef",
   "metadata": {},
   "outputs": [
    {
     "data": {
      "text/plain": [
       "array([0, 0, 0, ..., 0, 0, 0], dtype=int64)"
      ]
     },
     "execution_count": 67,
     "metadata": {},
     "output_type": "execute_result"
    }
   ],
   "source": [
    "rf.predict(X_val)"
   ]
  },
  {
   "cell_type": "code",
   "execution_count": 68,
   "id": "325282d1",
   "metadata": {},
   "outputs": [
    {
     "name": "stdout",
     "output_type": "stream",
     "text": [
      "train score 1.0, validation score 0.8781366791243994\n"
     ]
    }
   ],
   "source": [
    "# score on train\n",
    "train_acc=rf.score(X_train, y_train)\n",
    "    \n",
    "# score on validation \n",
    "validation_acc = rf.score(X_val, y_validation)\n",
    "    \n",
    "print(f'train score {train_acc}, validation score {validation_acc}')"
   ]
  },
  {
   "cell_type": "markdown",
   "id": "4edeba54",
   "metadata": {},
   "source": [
    "There is a sign of overfitting, but the accuracy of the validation set also increased."
   ]
  },
  {
   "cell_type": "code",
   "execution_count": 70,
   "id": "6172432e",
   "metadata": {},
   "outputs": [],
   "source": [
    "from sklearn.metrics import classification_report"
   ]
  },
  {
   "cell_type": "code",
   "execution_count": 72,
   "id": "eeb8aa26",
   "metadata": {},
   "outputs": [],
   "source": [
    "from sklearn.metrics import plot_confusion_matrix, confusion_matrix"
   ]
  },
  {
   "cell_type": "code",
   "execution_count": 73,
   "id": "be80ebe8",
   "metadata": {},
   "outputs": [
    {
     "data": {
      "text/html": [
       "<div>\n",
       "<style scoped>\n",
       "    .dataframe tbody tr th:only-of-type {\n",
       "        vertical-align: middle;\n",
       "    }\n",
       "\n",
       "    .dataframe tbody tr th {\n",
       "        vertical-align: top;\n",
       "    }\n",
       "\n",
       "    .dataframe thead th {\n",
       "        text-align: right;\n",
       "    }\n",
       "</style>\n",
       "<table border=\"1\" class=\"dataframe\">\n",
       "  <thead>\n",
       "    <tr style=\"text-align: right;\">\n",
       "      <th></th>\n",
       "      <th>Predicted Negative Rating</th>\n",
       "      <th>Predicted Positive Rating</th>\n",
       "    </tr>\n",
       "  </thead>\n",
       "  <tbody>\n",
       "    <tr>\n",
       "      <th>True Negative Rating</th>\n",
       "      <td>5706</td>\n",
       "      <td>228</td>\n",
       "    </tr>\n",
       "    <tr>\n",
       "      <th>True Positive Rating</th>\n",
       "      <td>685</td>\n",
       "      <td>873</td>\n",
       "    </tr>\n",
       "  </tbody>\n",
       "</table>\n",
       "</div>"
      ],
      "text/plain": [
       "                      Predicted Negative Rating  Predicted Positive Rating\n",
       "True Negative Rating                       5706                        228\n",
       "True Positive Rating                        685                        873"
      ]
     },
     "metadata": {},
     "output_type": "display_data"
    }
   ],
   "source": [
    "# Get class predictions\n",
    "y_pred_dt = rf.predict(X_val)\n",
    "\n",
    "# Generate confusion matrix\n",
    "cf_matrix = confusion_matrix(y_validation, y_pred_dt)\n",
    "\n",
    "# label rows and columns\n",
    "cf_df = pd.DataFrame(\n",
    "        cf_matrix, \n",
    "        columns=[\"Predicted Negative Rating\", \"Predicted Positive Rating\"],\n",
    "        index=[\"True Negative Rating\", \"True Positive Rating\"]\n",
    " )\n",
    "\n",
    "display(cf_df)"
   ]
  },
  {
   "cell_type": "code",
   "execution_count": 74,
   "id": "f39daa75",
   "metadata": {},
   "outputs": [
    {
     "name": "stdout",
     "output_type": "stream",
     "text": [
      "              precision    recall  f1-score   support\n",
      "\n",
      "           0       0.89      0.96      0.93      5934\n",
      "           1       0.79      0.56      0.66      1558\n",
      "\n",
      "    accuracy                           0.88      7492\n",
      "   macro avg       0.84      0.76      0.79      7492\n",
      "weighted avg       0.87      0.88      0.87      7492\n",
      "\n"
     ]
    }
   ],
   "source": [
    "from sklearn.metrics import classification_report\n",
    "\n",
    "report_initial = classification_report(y_validation, y_pred_dt)\n",
    "print(report_initial)"
   ]
  },
  {
   "cell_type": "markdown",
   "id": "132ef6bd",
   "metadata": {},
   "source": [
    "Let's analyze feature importances based on this model:"
   ]
  },
  {
   "cell_type": "code",
   "execution_count": 75,
   "id": "620dd0fd",
   "metadata": {},
   "outputs": [
    {
     "data": {
      "text/plain": [
       "array([0.00048093, 0.00398818, 0.03787056, 0.03643227, 0.01426345,\n",
       "       0.00601824, 0.00628194, 0.01040867, 0.03533041, 0.03115038,\n",
       "       0.01953732, 0.01286863, 0.01722531, 0.02057092, 0.02485885,\n",
       "       0.03922818, 0.09691246, 0.08020305, 0.01747336, 0.06809865,\n",
       "       0.03975553, 0.0452749 , 0.0258002 , 0.03258734, 0.0240097 ,\n",
       "       0.04099714, 0.00619513, 0.0443129 , 0.0392661 , 0.00174185,\n",
       "       0.00426473, 0.00429653, 0.00338583, 0.00067033, 0.00422324,\n",
       "       0.00018426, 0.00412319, 0.00092958, 0.05097811, 0.00157046,\n",
       "       0.00584815, 0.00848202, 0.00374508, 0.00538006, 0.00508592,\n",
       "       0.00156863, 0.00156268, 0.00263342, 0.01192523])"
      ]
     },
     "execution_count": 75,
     "metadata": {},
     "output_type": "execute_result"
    }
   ],
   "source": [
    "rf.feature_importances_"
   ]
  },
  {
   "cell_type": "code",
   "execution_count": 81,
   "id": "f6811b3f",
   "metadata": {},
   "outputs": [],
   "source": [
    "fi_df=pd.DataFrame(rf.feature_importances_)"
   ]
  },
  {
   "cell_type": "code",
   "execution_count": 1,
   "id": "7cd6aaf7",
   "metadata": {},
   "outputs": [],
   "source": [
    "# fi_df.sort_values(ascending=False).head()"
   ]
  },
  {
   "cell_type": "code",
   "execution_count": 85,
   "id": "fda25494",
   "metadata": {},
   "outputs": [
    {
     "data": {
      "image/png": "[encoded data removed]",
      "text/plain": [
       "<Figure size 1440x1080 with 1 Axes>"
      ]
     },
     "metadata": {
      "needs_background": "light"
     },
     "output_type": "display_data"
    }
   ],
   "source": [
    "sorted_idx = rf.feature_importances_.argsort()\n",
    "plt.figure(figsize=(20,15))\n",
    "plt.barh(X_train.columns[sorted_idx], rf.feature_importances_[sorted_idx])\n",
    "plt.xlabel(\"Random Forest Feature Importance\");"
   ]
  },
  {
   "cell_type": "markdown",
   "id": "7444c0d7",
   "metadata": {},
   "source": [
    "### Feature Importances:"
   ]
  },
  {
   "cell_type": "markdown",
   "id": "5b7d4f4c",
   "metadata": {},
   "source": [
    "Based on our Random Forest model:\n",
    "- Number of reviews and number of reviews in recent 12 months are the best predictors of a host being a superhost\n",
    "- Followed by review_scores_rating which is a combined rating based on many qualities of the property, location and host service. Specifically, review_scores_cleaneliness stand out. Initial observation is; people also write the most about cleanliness in their text reviews. Further NLP analysis needed to understand the main topics discussed in reviews and even use only those parameters to predict a super host.\n",
    "- Number of amenities play main role both in pricing and host being a superhost. This is more significant than a specific type of amenity.\n",
    "- Hosts being longer in the market and having more available days also inflences performance positively.\n",
    "- Host listings count seems to be an influencial feature, although this feature is one that customers don't care about. Probably Airbnb weights hosts with more listings positively."
   ]
  },
  {
   "cell_type": "markdown",
   "id": "157a4add",
   "metadata": {},
   "source": [
    "---"
   ]
  },
  {
   "cell_type": "markdown",
   "id": "d197dd09",
   "metadata": {},
   "source": [
    "## Ensemble learning: Bagging Classifier using DTs"
   ]
  },
  {
   "cell_type": "markdown",
   "id": "14bc77a0",
   "metadata": {},
   "source": [
    "As we know, Random Classifier is an extention of the bagging ensemble with decisin trees. However, it would be interesting how independent decision treen in a bag perform "
   ]
  },
  {
   "cell_type": "code",
   "execution_count": 135,
   "id": "8726d0c2",
   "metadata": {},
   "outputs": [],
   "source": [
    "from sklearn.ensemble import BaggingClassifier"
   ]
  },
  {
   "cell_type": "code",
   "execution_count": 136,
   "id": "a739d764",
   "metadata": {},
   "outputs": [],
   "source": [
    "from sklearn.tree import DecisionTreeClassifier"
   ]
  },
  {
   "cell_type": "code",
   "execution_count": 137,
   "id": "a82ef82a",
   "metadata": {},
   "outputs": [
    {
     "name": "stdout",
     "output_type": "stream",
     "text": [
      "The classification accuracy of our model on the validation set is: 0.8814735718099306\n",
      "\n",
      "\n"
     ]
    }
   ],
   "source": [
    "ensemble_of_DT = BaggingClassifier(DecisionTreeClassifier(),\n",
    "                                   n_estimators=100,\n",
    "                                   random_state=1)\n",
    "ensemble_of_DT.fit(X_train, y_train)\n",
    "\n",
    "print(f\"The classification accuracy of our model on the validation set \"\n",
    "      f\"is: {ensemble_of_DT.score(X_val, y_validation)}\\n\\n\")"
   ]
  },
  {
   "cell_type": "code",
   "execution_count": 139,
   "id": "a002bbd8",
   "metadata": {},
   "outputs": [
    {
     "data": {
      "text/html": [
       "<div>\n",
       "<style scoped>\n",
       "    .dataframe tbody tr th:only-of-type {\n",
       "        vertical-align: middle;\n",
       "    }\n",
       "\n",
       "    .dataframe tbody tr th {\n",
       "        vertical-align: top;\n",
       "    }\n",
       "\n",
       "    .dataframe thead th {\n",
       "        text-align: right;\n",
       "    }\n",
       "</style>\n",
       "<table border=\"1\" class=\"dataframe\">\n",
       "  <thead>\n",
       "    <tr style=\"text-align: right;\">\n",
       "      <th></th>\n",
       "      <th>Predicted Negative Rating</th>\n",
       "      <th>Predicted Positive Rating</th>\n",
       "    </tr>\n",
       "  </thead>\n",
       "  <tbody>\n",
       "    <tr>\n",
       "      <th>True Negative Rating</th>\n",
       "      <td>5653</td>\n",
       "      <td>281</td>\n",
       "    </tr>\n",
       "    <tr>\n",
       "      <th>True Positive Rating</th>\n",
       "      <td>607</td>\n",
       "      <td>951</td>\n",
       "    </tr>\n",
       "  </tbody>\n",
       "</table>\n",
       "</div>"
      ],
      "text/plain": [
       "                      Predicted Negative Rating  Predicted Positive Rating\n",
       "True Negative Rating                       5653                        281\n",
       "True Positive Rating                        607                        951"
      ]
     },
     "metadata": {},
     "output_type": "display_data"
    }
   ],
   "source": [
    "# Get class predictions\n",
    "y_pred_ens_dt = ensemble_of_DT.predict(X_val)\n",
    "\n",
    "# Generate confusion matrix\n",
    "cf_matrix = confusion_matrix(y_validation, y_pred_ens_dt)\n",
    "\n",
    "# label rows and columns\n",
    "cf_df = pd.DataFrame(\n",
    "        cf_matrix, \n",
    "        columns=[\"Predicted Negative Rating\", \"Predicted Positive Rating\"],\n",
    "        index=[\"True Negative Rating\", \"True Positive Rating\"]\n",
    " )\n",
    "\n",
    "display(cf_df)"
   ]
  },
  {
   "cell_type": "code",
   "execution_count": 140,
   "id": "4fd3346f",
   "metadata": {},
   "outputs": [
    {
     "name": "stdout",
     "output_type": "stream",
     "text": [
      "              precision    recall  f1-score   support\n",
      "\n",
      "           0       0.90      0.95      0.93      5934\n",
      "           1       0.77      0.61      0.68      1558\n",
      "\n",
      "    accuracy                           0.88      7492\n",
      "   macro avg       0.84      0.78      0.80      7492\n",
      "weighted avg       0.88      0.88      0.88      7492\n",
      "\n"
     ]
    }
   ],
   "source": [
    "from sklearn.metrics import classification_report\n",
    "\n",
    "report_initial = classification_report(y_validation, y_pred_ens_dt)\n",
    "print(report_initial)"
   ]
  },
  {
   "cell_type": "markdown",
   "id": "9ba4efa8",
   "metadata": {},
   "source": [
    "Ensemble model for Decision Trees performes better than any previous models. However, all those models are not the best for imbalanced data. Further, we will try to solve some imbalanced data problem by using cross-validation and kfold paramenters and also calculate ROC mean for the model. If this does not improve the model, upsampling or downsampling the data could be the next step before trying any model. "
   ]
  },
  {
   "cell_type": "markdown",
   "id": "876e4308",
   "metadata": {},
   "source": [
    "## Predict the test set using ensemble model:"
   ]
  },
  {
   "cell_type": "code",
   "execution_count": 148,
   "id": "b1cf03e9",
   "metadata": {},
   "outputs": [
    {
     "data": {
      "text/html": [
       "<div>\n",
       "<style scoped>\n",
       "    .dataframe tbody tr th:only-of-type {\n",
       "        vertical-align: middle;\n",
       "    }\n",
       "\n",
       "    .dataframe tbody tr th {\n",
       "        vertical-align: top;\n",
       "    }\n",
       "\n",
       "    .dataframe thead th {\n",
       "        text-align: right;\n",
       "    }\n",
       "</style>\n",
       "<table border=\"1\" class=\"dataframe\">\n",
       "  <thead>\n",
       "    <tr style=\"text-align: right;\">\n",
       "      <th></th>\n",
       "      <th>Predicted Negative Rating</th>\n",
       "      <th>Predicted Positive Rating</th>\n",
       "    </tr>\n",
       "  </thead>\n",
       "  <tbody>\n",
       "    <tr>\n",
       "      <th>True Negative Rating</th>\n",
       "      <td>5667</td>\n",
       "      <td>267</td>\n",
       "    </tr>\n",
       "    <tr>\n",
       "      <th>True Positive Rating</th>\n",
       "      <td>611</td>\n",
       "      <td>947</td>\n",
       "    </tr>\n",
       "  </tbody>\n",
       "</table>\n",
       "</div>"
      ],
      "text/plain": [
       "                      Predicted Negative Rating  Predicted Positive Rating\n",
       "True Negative Rating                       5667                        267\n",
       "True Positive Rating                        611                        947"
      ]
     },
     "metadata": {},
     "output_type": "display_data"
    }
   ],
   "source": [
    "# Get class predictions\n",
    "y_pred_ens_dt = ensemble_of_DT.predict(X_test)\n",
    "\n",
    "# Generate confusion matrix\n",
    "cf_matrix = confusion_matrix(y_test, y_pred_ens_dt)\n",
    "\n",
    "# label rows and columns\n",
    "cf_df = pd.DataFrame(\n",
    "        cf_matrix, \n",
    "        columns=[\"Predicted Negative Rating\", \"Predicted Positive Rating\"],\n",
    "        index=[\"True Negative Rating\", \"True Positive Rating\"]\n",
    " )\n",
    "\n",
    "display(cf_df)"
   ]
  },
  {
   "cell_type": "code",
   "execution_count": 149,
   "id": "46c0d26c",
   "metadata": {},
   "outputs": [
    {
     "name": "stdout",
     "output_type": "stream",
     "text": [
      "              precision    recall  f1-score   support\n",
      "\n",
      "           0       0.90      0.96      0.93      5934\n",
      "           1       0.78      0.61      0.68      1558\n",
      "\n",
      "    accuracy                           0.88      7492\n",
      "   macro avg       0.84      0.78      0.81      7492\n",
      "weighted avg       0.88      0.88      0.88      7492\n",
      "\n"
     ]
    }
   ],
   "source": [
    "report_initial = classification_report(y_test, y_pred_ens_dt)\n",
    "print(report_initial)"
   ]
  },
  {
   "cell_type": "markdown",
   "id": "1dacadb3",
   "metadata": {},
   "source": [
    "The good news, our best model performed slightly better on test set. Almost the same results, meaning training did not overfit, and there was minimal information leak from model to model. Precision improved by 0.01 the other two values remain the same. Accuracy on the test set is 88%.\n",
    "\n",
    "This accuracy result was improved from 83% initially (83% on validation set)."
   ]
  },
  {
   "cell_type": "markdown",
   "id": "78c60229",
   "metadata": {},
   "source": [
    "### Imbalanced Classification: adjust bagging"
   ]
  },
  {
   "cell_type": "code",
   "execution_count": 141,
   "id": "5faadd20",
   "metadata": {},
   "outputs": [],
   "source": [
    "# bagged decision trees on an imbalanced classification problem\n",
    "from numpy import mean\n",
    "from sklearn.datasets import make_classification\n",
    "from sklearn.model_selection import cross_val_score\n",
    "from sklearn.model_selection import RepeatedStratifiedKFold\n",
    "from sklearn.ensemble import BaggingClassifier"
   ]
  },
  {
   "cell_type": "code",
   "execution_count": 2,
   "id": "1f9c7869",
   "metadata": {},
   "outputs": [],
   "source": [
    "# # define model\n",
    "# model = BaggingClassifier(DecisionTreeClassifier(),\n",
    "#                                    n_estimators=100,\n",
    "#                                    random_state=1)\n",
    "# model.fit(X_train, y_train)\n",
    "# # define evaluation procedure\n",
    "# cv = RepeatedStratifiedKFold(n_splits=10, n_repeats=3, random_state=1)\n",
    "# # evaluate model\n",
    "# scores = cross_val_score(model, X_train, y_train, scoring='roc_auc', cv=cv, n_jobs=-1)\n",
    "\n",
    "# # summarize performance\n",
    "# print(f\"The classification accuracy of our model on the validation set \"\n",
    "#       f\"is: {ensemble_of_DT.score(X_val, y_validation)}\\n\\n\")\n",
    "# print('Mean ROC AUC: %.3f' % mean(scores))\n"
   ]
  },
  {
   "cell_type": "code",
   "execution_count": 3,
   "id": "86b1321a",
   "metadata": {},
   "outputs": [],
   "source": [
    "# # Get class predictions\n",
    "# y_pred_ens_dt = model.predict(X_val)\n",
    "\n",
    "# # Generate confusion matrix\n",
    "# cf_matrix = confusion_matrix(y_validation, y_pred_ens_dt)\n",
    "\n",
    "# # label rows and columns\n",
    "# cf_df = pd.DataFrame(\n",
    "#         cf_matrix, \n",
    "#         columns=[\"Predicted Negative Rating\", \"Predicted Positive Rating\"],\n",
    "#         index=[\"True Negative Rating\", \"True Positive Rating\"]\n",
    "#  )\n",
    "\n",
    "# display(cf_df)"
   ]
  },
  {
   "cell_type": "code",
   "execution_count": 4,
   "id": "8d709132",
   "metadata": {},
   "outputs": [],
   "source": [
    "# report_initial = classification_report(y_validation, y_pred_ens_dt)\n",
    "# print(report_initial)"
   ]
  },
  {
   "cell_type": "code",
   "execution_count": null,
   "id": "f4557a06",
   "metadata": {},
   "outputs": [],
   "source": []
  }
 ],
 "metadata": {
  "kernelspec": {
   "display_name": "Python 3 (ipykernel)",
   "language": "python",
   "name": "python3"
  },
  "language_info": {
   "codemirror_mode": {
    "name": "ipython",
    "version": 3
   },
   "file_extension": ".py",
   "mimetype": "text/x-python",
   "name": "python",
   "nbconvert_exporter": "python",
   "pygments_lexer": "ipython3",
   "version": "3.9.7"
  },
  "toc": {
   "base_numbering": 1,
   "nav_menu": {},
   "number_sections": true,
   "sideBar": true,
   "skip_h1_title": false,
   "title_cell": "Table of Contents",
   "title_sidebar": "Contents",
   "toc_cell": false,
   "toc_position": {
    "height": "calc(100% - 180px)",
    "left": "10px",
    "top": "150px",
    "width": "165px"
   },
   "toc_section_display": true,
   "toc_window_display": true
  }
 },
 "nbformat": 4,
 "nbformat_minor": 5
}
